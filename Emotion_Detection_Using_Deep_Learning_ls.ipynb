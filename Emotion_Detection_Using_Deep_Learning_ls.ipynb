{
  "nbformat": 4,
  "nbformat_minor": 0,
  "metadata": {
    "colab": {
      "name": "Emotion_Detection_Using_Deep_Learning_ls.ipynb",
      "provenance": [],
      "collapsed_sections": [],
      "authorship_tag": "ABX9TyPCBeAUuNKpnzSUPqN2Snli",
      "include_colab_link": true
    },
    "kernelspec": {
      "name": "python3",
      "display_name": "Python 3"
    },
    "accelerator": "GPU"
  },
  "cells": [
    {
      "cell_type": "markdown",
      "metadata": {
        "id": "view-in-github",
        "colab_type": "text"
      },
      "source": [
        "<a href=\"https://colab.research.google.com/github/sayakpaul/Emotion-Detection-using-Deep-Learning/blob/master/Emotion_Detection_Using_Deep_Learning_ls.ipynb\" target=\"_parent\"><img src=\"https://colab.research.google.com/assets/colab-badge.svg\" alt=\"Open In Colab\"/></a>"
      ]
    },
    {
      "cell_type": "code",
      "metadata": {
        "id": "kOnkXJVR-vNa",
        "colab_type": "code",
        "colab": {}
      },
      "source": [
        "# Select TensorFlow 2.0 environment\n",
        "%tensorflow_version 2.x"
      ],
      "execution_count": 0,
      "outputs": []
    },
    {
      "cell_type": "markdown",
      "metadata": {
        "id": "JSbkNyrz5xkL",
        "colab_type": "text"
      },
      "source": [
        "You need to get your API key from your Kaggle account to be able to proceed with the following. "
      ]
    },
    {
      "cell_type": "code",
      "metadata": {
        "id": "axYnT4qp-3E3",
        "colab_type": "code",
        "colab": {}
      },
      "source": [
        "# Google Colab imports for setting up Kaggle\n",
        "from google.colab import files\n",
        "files.upload()"
      ],
      "execution_count": 0,
      "outputs": []
    },
    {
      "cell_type": "code",
      "metadata": {
        "id": "67YOp6Y9-7BI",
        "colab_type": "code",
        "colab": {}
      },
      "source": [
        "# Set up Kaggle\n",
        "!mkdir ~/.kaggle\n",
        "!cp kaggle.json ~/.kaggle/\n",
        "!chmod 600 ~/.kaggle/kaggle.json"
      ],
      "execution_count": 0,
      "outputs": []
    },
    {
      "cell_type": "code",
      "metadata": {
        "id": "caJiwp3y_Agi",
        "colab_type": "code",
        "outputId": "3ab81f4c-5762-40a7-8771-1bda8557aa5d",
        "colab": {
          "base_uri": "https://localhost:8080/",
          "height": 289
        }
      },
      "source": [
        "# Download the data\n",
        "# https://www.kaggle.com/c/challenges-in-representation-learning-facial-expression-recognition-challenge/\n",
        "!kaggle competitions download -c challenges-in-representation-learning-facial-expression-recognition-challenge"
      ],
      "execution_count": 0,
      "outputs": [
        {
          "output_type": "stream",
          "text": [
            "Warning: Looks like you're using an outdated API Version, please consider updating (server 1.5.6 / client 1.5.4)\n",
            "Downloading fer2013.tar.gz to /content\n",
            " 79% 73.0M/92.0M [00:00<00:00, 56.5MB/s]\n",
            "100% 92.0M/92.0M [00:00<00:00, 105MB/s] \n",
            "Downloading icml_face_data.csv.zip to /content\n",
            " 85% 82.0M/96.6M [00:00<00:00, 69.4MB/s]\n",
            "100% 96.6M/96.6M [00:00<00:00, 110MB/s] \n",
            "Downloading test.csv.zip to /content\n",
            " 47% 9.00M/19.3M [00:00<00:00, 37.1MB/s]\n",
            "100% 19.3M/19.3M [00:00<00:00, 55.0MB/s]\n",
            "Downloading train.csv.zip to /content\n",
            " 83% 64.0M/77.3M [00:00<00:00, 69.6MB/s]\n",
            "100% 77.3M/77.3M [00:00<00:00, 105MB/s] \n",
            "Downloading example_submission.csv to /content\n",
            "  0% 0.00/7.01k [00:00<?, ?B/s]\n",
            "100% 7.01k/7.01k [00:00<00:00, 6.12MB/s]\n"
          ],
          "name": "stdout"
        }
      ]
    },
    {
      "cell_type": "code",
      "metadata": {
        "id": "34neb1rU_Ek9",
        "colab_type": "code",
        "colab": {}
      },
      "source": [
        "# Unzip dataset\n",
        "!unzip -qq icml_face_data.csv.zip\n",
        "!unzip -qq test.csv.zip\n",
        "!unzip -qq train.csv.zip"
      ],
      "execution_count": 0,
      "outputs": []
    },
    {
      "cell_type": "code",
      "metadata": {
        "id": "qSgtCIaq_iuf",
        "colab_type": "code",
        "colab": {}
      },
      "source": [
        "# General imports\n",
        "from tqdm import tqdm\n",
        "import matplotlib.pyplot as plt\n",
        "import pandas as pd\n",
        "import numpy as np"
      ],
      "execution_count": 0,
      "outputs": []
    },
    {
      "cell_type": "code",
      "metadata": {
        "id": "I4fcMaGFAQrN",
        "colab_type": "code",
        "outputId": "24628778-84b9-4654-c315-5be2f8860c49",
        "colab": {
          "base_uri": "https://localhost:8080/",
          "height": 204
        }
      },
      "source": [
        "# Load up the training dataset\n",
        "train = pd.read_csv(\"train.csv\")\n",
        "train.head()"
      ],
      "execution_count": 0,
      "outputs": [
        {
          "output_type": "execute_result",
          "data": {
            "text/html": [
              "<div>\n",
              "<style scoped>\n",
              "    .dataframe tbody tr th:only-of-type {\n",
              "        vertical-align: middle;\n",
              "    }\n",
              "\n",
              "    .dataframe tbody tr th {\n",
              "        vertical-align: top;\n",
              "    }\n",
              "\n",
              "    .dataframe thead th {\n",
              "        text-align: right;\n",
              "    }\n",
              "</style>\n",
              "<table border=\"1\" class=\"dataframe\">\n",
              "  <thead>\n",
              "    <tr style=\"text-align: right;\">\n",
              "      <th></th>\n",
              "      <th>emotion</th>\n",
              "      <th>pixels</th>\n",
              "    </tr>\n",
              "  </thead>\n",
              "  <tbody>\n",
              "    <tr>\n",
              "      <th>0</th>\n",
              "      <td>0</td>\n",
              "      <td>70 80 82 72 58 58 60 63 54 58 60 48 89 115 121...</td>\n",
              "    </tr>\n",
              "    <tr>\n",
              "      <th>1</th>\n",
              "      <td>0</td>\n",
              "      <td>151 150 147 155 148 133 111 140 170 174 182 15...</td>\n",
              "    </tr>\n",
              "    <tr>\n",
              "      <th>2</th>\n",
              "      <td>2</td>\n",
              "      <td>231 212 156 164 174 138 161 173 182 200 106 38...</td>\n",
              "    </tr>\n",
              "    <tr>\n",
              "      <th>3</th>\n",
              "      <td>4</td>\n",
              "      <td>24 32 36 30 32 23 19 20 30 41 21 22 32 34 21 1...</td>\n",
              "    </tr>\n",
              "    <tr>\n",
              "      <th>4</th>\n",
              "      <td>6</td>\n",
              "      <td>4 0 0 0 0 0 0 0 0 0 0 0 3 15 23 28 48 50 58 84...</td>\n",
              "    </tr>\n",
              "  </tbody>\n",
              "</table>\n",
              "</div>"
            ],
            "text/plain": [
              "   emotion                                             pixels\n",
              "0        0  70 80 82 72 58 58 60 63 54 58 60 48 89 115 121...\n",
              "1        0  151 150 147 155 148 133 111 140 170 174 182 15...\n",
              "2        2  231 212 156 164 174 138 161 173 182 200 106 38...\n",
              "3        4  24 32 36 30 32 23 19 20 30 41 21 22 32 34 21 1...\n",
              "4        6  4 0 0 0 0 0 0 0 0 0 0 0 3 15 23 28 48 50 58 84..."
            ]
          },
          "metadata": {
            "tags": []
          },
          "execution_count": 7
        }
      ]
    },
    {
      "cell_type": "code",
      "metadata": {
        "id": "I05tBXyaGztD",
        "colab_type": "code",
        "outputId": "e4f55121-47bd-4c25-f75e-980cd5386a3b",
        "colab": {
          "base_uri": "https://localhost:8080/",
          "height": 153
        }
      },
      "source": [
        "# Class distribution\n",
        "train[\"emotion\"].value_counts()"
      ],
      "execution_count": 0,
      "outputs": [
        {
          "output_type": "execute_result",
          "data": {
            "text/plain": [
              "3    7215\n",
              "6    4965\n",
              "4    4830\n",
              "2    4097\n",
              "0    3995\n",
              "5    3171\n",
              "1     436\n",
              "Name: emotion, dtype: int64"
            ]
          },
          "metadata": {
            "tags": []
          },
          "execution_count": 8
        }
      ]
    },
    {
      "cell_type": "markdown",
      "metadata": {
        "id": "_oGPWHJuP0pY",
        "colab_type": "text"
      },
      "source": [
        "Class imbalance noticed."
      ]
    },
    {
      "cell_type": "code",
      "metadata": {
        "id": "tugm4rNZEVpM",
        "colab_type": "code",
        "outputId": "ed9bdd47-d1be-4b30-849c-7dd958aebb69",
        "colab": {
          "base_uri": "https://localhost:8080/",
          "height": 204
        }
      },
      "source": [
        "# Load test dataset\n",
        "test = pd.read_csv(\"test.csv\")\n",
        "test.head()"
      ],
      "execution_count": 0,
      "outputs": [
        {
          "output_type": "execute_result",
          "data": {
            "text/html": [
              "<div>\n",
              "<style scoped>\n",
              "    .dataframe tbody tr th:only-of-type {\n",
              "        vertical-align: middle;\n",
              "    }\n",
              "\n",
              "    .dataframe tbody tr th {\n",
              "        vertical-align: top;\n",
              "    }\n",
              "\n",
              "    .dataframe thead th {\n",
              "        text-align: right;\n",
              "    }\n",
              "</style>\n",
              "<table border=\"1\" class=\"dataframe\">\n",
              "  <thead>\n",
              "    <tr style=\"text-align: right;\">\n",
              "      <th></th>\n",
              "      <th>pixels</th>\n",
              "    </tr>\n",
              "  </thead>\n",
              "  <tbody>\n",
              "    <tr>\n",
              "      <th>0</th>\n",
              "      <td>254 254 254 254 254 249 255 160 2 58 53 70 77 ...</td>\n",
              "    </tr>\n",
              "    <tr>\n",
              "      <th>1</th>\n",
              "      <td>156 184 198 202 204 207 210 212 213 214 215 21...</td>\n",
              "    </tr>\n",
              "    <tr>\n",
              "      <th>2</th>\n",
              "      <td>69 118 61 60 96 121 103 87 103 88 70 90 115 12...</td>\n",
              "    </tr>\n",
              "    <tr>\n",
              "      <th>3</th>\n",
              "      <td>205 203 236 157 83 158 120 116 94 86 155 180 2...</td>\n",
              "    </tr>\n",
              "    <tr>\n",
              "      <th>4</th>\n",
              "      <td>87 79 74 66 74 96 77 80 80 84 83 89 102 91 84 ...</td>\n",
              "    </tr>\n",
              "  </tbody>\n",
              "</table>\n",
              "</div>"
            ],
            "text/plain": [
              "                                              pixels\n",
              "0  254 254 254 254 254 249 255 160 2 58 53 70 77 ...\n",
              "1  156 184 198 202 204 207 210 212 213 214 215 21...\n",
              "2  69 118 61 60 96 121 103 87 103 88 70 90 115 12...\n",
              "3  205 203 236 157 83 158 120 116 94 86 155 180 2...\n",
              "4  87 79 74 66 74 96 77 80 80 84 83 89 102 91 84 ..."
            ]
          },
          "metadata": {
            "tags": []
          },
          "execution_count": 9
        }
      ]
    },
    {
      "cell_type": "markdown",
      "metadata": {
        "id": "TMRozBIWAd8C",
        "colab_type": "text"
      },
      "source": [
        "Note on the label mapping:\n",
        "\n",
        "(0=Angry, 1=Disgust, 2=Fear, 3=Happy, 4=Sad, 5=Surprise, 6=Neutral)"
      ]
    },
    {
      "cell_type": "code",
      "metadata": {
        "id": "rqzUp-dIAU3Y",
        "colab_type": "code",
        "colab": {}
      },
      "source": [
        "# Function to clean the dataset\n",
        "# Taken from http://bit.ly/37AUk7f\n",
        "def clean_data(dataframe):\n",
        "    image_pixels = np.zeros(shape=(len(dataframe), 48, 48))\n",
        "    labels = np.zeros(shape=(len(dataframe), ))\n",
        "    for (i, row) in tqdm(dataframe.iterrows()):\n",
        "        image = np.fromstring(row[\"pixels\"], dtype=int, sep=' ')\n",
        "        image = image.reshape(48, 48)\n",
        "        image = image.astype(\"float\")/255\n",
        "        \n",
        "        image_pixels[i] = image\n",
        "        labels[i] = row[\"emotion\"]\n",
        "    \n",
        "    return (image_pixels, labels)"
      ],
      "execution_count": 0,
      "outputs": []
    },
    {
      "cell_type": "code",
      "metadata": {
        "id": "KtreWITkAoSi",
        "colab_type": "code",
        "outputId": "a1449430-5a0a-4bee-aa5b-47d845a977e4",
        "colab": {
          "base_uri": "https://localhost:8080/",
          "height": 51
        }
      },
      "source": [
        "# Clean the training dataset and verify the shapes\n",
        "(train_pixels, train_labels) = clean_data(train)\n",
        "train_pixels.shape, train_labels.shape"
      ],
      "execution_count": 0,
      "outputs": [
        {
          "output_type": "stream",
          "text": [
            "28709it [00:05, 5223.85it/s]\n"
          ],
          "name": "stderr"
        },
        {
          "output_type": "execute_result",
          "data": {
            "text/plain": [
              "((28709, 48, 48), (28709,))"
            ]
          },
          "metadata": {
            "tags": []
          },
          "execution_count": 11
        }
      ]
    },
    {
      "cell_type": "code",
      "metadata": {
        "id": "aaZtUxc1IKOy",
        "colab_type": "code",
        "colab": {}
      },
      "source": [
        "# sklearn and other utility imports\n",
        "from sklearn.model_selection import train_test_split\n",
        "from sklearn.preprocessing import LabelEncoder\n",
        "from tensorflow.keras.utils import to_categorical"
      ],
      "execution_count": 0,
      "outputs": []
    },
    {
      "cell_type": "code",
      "metadata": {
        "id": "QLtIOejPIkOY",
        "colab_type": "code",
        "colab": {}
      },
      "source": [
        "# One-hot encode the labels\n",
        "le = LabelEncoder().fit(train_labels)\n",
        "train_labels = to_categorical(le.transform(train_labels), 7)"
      ],
      "execution_count": 0,
      "outputs": []
    },
    {
      "cell_type": "code",
      "metadata": {
        "id": "TJAZX2B1I1q0",
        "colab_type": "code",
        "outputId": "3c2a5268-cd1d-4c4e-d023-6ea8b04a1c15",
        "colab": {
          "base_uri": "https://localhost:8080/",
          "height": 34
        }
      },
      "source": [
        "train_labels.shape"
      ],
      "execution_count": 0,
      "outputs": [
        {
          "output_type": "execute_result",
          "data": {
            "text/plain": [
              "(28709, 7)"
            ]
          },
          "metadata": {
            "tags": []
          },
          "execution_count": 14
        }
      ]
    },
    {
      "cell_type": "code",
      "metadata": {
        "id": "cFXCWLEIH2qT",
        "colab_type": "code",
        "outputId": "be07f241-0c86-4818-f4fd-8c683d49633a",
        "colab": {
          "base_uri": "https://localhost:8080/",
          "height": 34
        }
      },
      "source": [
        "# Split the training data into further partial training and validation data\n",
        "(trainX, valX, trainY, valY) = train_test_split(train_pixels,\n",
        "    train_labels, test_size=0.15, stratify=train_labels, random_state=42)\n",
        "trainX.shape, trainY.shape, valX.shape, valY.shape"
      ],
      "execution_count": 0,
      "outputs": [
        {
          "output_type": "execute_result",
          "data": {
            "text/plain": [
              "((24402, 48, 48), (24402, 7), (4307, 48, 48), (4307, 7))"
            ]
          },
          "metadata": {
            "tags": []
          },
          "execution_count": 15
        }
      ]
    },
    {
      "cell_type": "code",
      "metadata": {
        "id": "g3Liy4gy-xje",
        "colab_type": "code",
        "outputId": "e3bfbc28-d53c-4bf4-e403-26f96729142e",
        "colab": {
          "base_uri": "https://localhost:8080/",
          "height": 34
        }
      },
      "source": [
        "# Serialize the data for later reproducibility\n",
        "np.save(\"trainX.npy\", trainX), np.save(\"trainY.npy\", trainY)\n",
        "np.save(\"valX.npy\", valX), np.save(\"valY.npy\", valY)"
      ],
      "execution_count": 0,
      "outputs": [
        {
          "output_type": "execute_result",
          "data": {
            "text/plain": [
              "(None, None)"
            ]
          },
          "metadata": {
            "tags": []
          },
          "execution_count": 16
        }
      ]
    },
    {
      "cell_type": "code",
      "metadata": {
        "id": "U3M0z8zoL9K8",
        "colab_type": "code",
        "outputId": "b63efa83-b032-41d9-a2ec-2d44cf9811b9",
        "colab": {
          "base_uri": "https://localhost:8080/",
          "height": 34
        }
      },
      "source": [
        "# Load it like this\n",
        "trainX, trainY = np.load(\"trainX.npy\"), np.load(\"trainY.npy\")\n",
        "valX, valY = np.load(\"valX.npy\"), np.load(\"valY.npy\")\n",
        "trainX.shape, trainY.shape, valX.shape, valY.shape"
      ],
      "execution_count": 0,
      "outputs": [
        {
          "output_type": "execute_result",
          "data": {
            "text/plain": [
              "((24402, 48, 48), (24402, 7), (4307, 48, 48), (4307, 7))"
            ]
          },
          "metadata": {
            "tags": []
          },
          "execution_count": 17
        }
      ]
    },
    {
      "cell_type": "code",
      "metadata": {
        "id": "j-vzxKMHHLLj",
        "colab_type": "code",
        "colab": {}
      },
      "source": [
        "# Account for skew in the labeled data\n",
        "classTotals = trainY.sum(axis=0)\n",
        "classWeight = classTotals.max() / classTotals"
      ],
      "execution_count": 0,
      "outputs": []
    },
    {
      "cell_type": "code",
      "metadata": {
        "id": "NktmFLvMMCUI",
        "colab_type": "code",
        "colab": {}
      },
      "source": [
        "# Define the label mapping\n",
        "LABELS = {\n",
        "    0: \"Angry\", \n",
        "    1: \"Disgust\", \n",
        "    2: \"Fear\",\n",
        "    3: \"Happy\", \n",
        "    4: \"Sad\", \n",
        "    5: \"Surprise\", \n",
        "    6: \"Neutral\"\n",
        "}"
      ],
      "execution_count": 0,
      "outputs": []
    },
    {
      "cell_type": "code",
      "metadata": {
        "id": "Hzuhav_kMjm5",
        "colab_type": "code",
        "outputId": "24813fae-de66-4324-e5f1-ceeb7ae5b58c",
        "colab": {
          "base_uri": "https://localhost:8080/",
          "height": 1000
        }
      },
      "source": [
        "# Spot check the dataset\n",
        "train_idx = np.random.choice(len(trainX), 5)\n",
        "for id in train_idx:\n",
        "    plt.imshow(trainX[id].reshape(48, 48), cmap=\"gray\")\n",
        "    plt.xlabel(LABELS[np.argmax(trainY[id])])\n",
        "    plt.show()"
      ],
      "execution_count": 0,
      "outputs": [
        {
          "output_type": "display_data",
          "data": {
            "image/png": "[encoded data removed]",
            "text/plain": [
              "<Figure size 432x288 with 1 Axes>"
            ]
          },
          "metadata": {
            "tags": []
          }
        },
        {
          "output_type": "display_data",
          "data": {
            "image/png": "[encoded data removed]",
            "text/plain": [
              "<Figure size 432x288 with 1 Axes>"
            ]
          },
          "metadata": {
            "tags": []
          }
        },
        {
          "output_type": "display_data",
          "data": {
            "image/png": "[encoded data removed]",
            "text/plain": [
              "<Figure size 432x288 with 1 Axes>"
            ]
          },
          "metadata": {
            "tags": []
          }
        },
        {
          "output_type": "display_data",
          "data": {
            "image/png": "[encoded data removed]",
            "text/plain": [
              "<Figure size 432x288 with 1 Axes>"
            ]
          },
          "metadata": {
            "tags": []
          }
        },
        {
          "output_type": "display_data",
          "data": {
            "image/png": "[encoded data removed]",
            "text/plain": [
              "<Figure size 432x288 with 1 Axes>"
            ]
          },
          "metadata": {
            "tags": []
          }
        }
      ]
    },
    {
      "cell_type": "markdown",
      "metadata": {
        "id": "ycW0ruOU7dD8",
        "colab_type": "text"
      },
      "source": [
        "For modeling purposes, we are going to use the following three architectures:\n",
        "- Shallow fully connected network\n",
        "- Mini InceptionNet or Mini GoogLeNet\n",
        "- Mini VGGNet\n",
        "\n",
        "For architectural details and discussions follow this article: https://www.pyimagesearch.com/2019/10/28/3-ways-to-create-a-keras-model-with-tensorflow-2-0-sequential-functional-and-model-subclassing/. "
      ]
    },
    {
      "cell_type": "code",
      "metadata": {
        "id": "9I5CZdTdJEgk",
        "colab_type": "code",
        "outputId": "42686f3b-0166-4f74-96bf-577934636c3f",
        "colab": {
          "base_uri": "https://localhost:8080/",
          "height": 204
        }
      },
      "source": [
        "# Comes from http://bit.ly/2U8ntCX\n",
        "!wget https://raw.githubusercontent.com/sayakpaul/ML-Bootcamp-Launchpad/master/pyimagesearch/models.py"
      ],
      "execution_count": 0,
      "outputs": [
        {
          "output_type": "stream",
          "text": [
            "--2020-02-14 13:34:38--  https://raw.githubusercontent.com/sayakpaul/ML-Bootcamp-Launchpad/master/pyimagesearch/models.py\n",
            "Resolving raw.githubusercontent.com (raw.githubusercontent.com)... 151.101.0.133, 151.101.64.133, 151.101.128.133, ...\n",
            "Connecting to raw.githubusercontent.com (raw.githubusercontent.com)|151.101.0.133|:443... connected.\n",
            "HTTP request sent, awaiting response... 200 OK\n",
            "Length: 5217 (5.1K) [text/plain]\n",
            "Saving to: ‘models.py’\n",
            "\n",
            "\rmodels.py             0%[                    ]       0  --.-KB/s               \rmodels.py           100%[===================>]   5.09K  --.-KB/s    in 0s      \n",
            "\n",
            "2020-02-14 13:34:38 (111 MB/s) - ‘models.py’ saved [5217/5217]\n",
            "\n"
          ],
          "name": "stdout"
        }
      ]
    },
    {
      "cell_type": "code",
      "metadata": {
        "id": "YO_-6F86LRdi",
        "colab_type": "code",
        "colab": {}
      },
      "source": [
        "# PyImageSearch imports\n",
        "from models import MiniVGGNetModel\n",
        "from models import minigooglenet_functional\n",
        "from models import shallownet_sequential"
      ],
      "execution_count": 0,
      "outputs": []
    },
    {
      "cell_type": "code",
      "metadata": {
        "id": "0acbio2XL9za",
        "colab_type": "code",
        "colab": {}
      },
      "source": [
        "# Convnets would require a channel dimension\n",
        "trainX = trainX.reshape(-1, 48, 48, 1)\n",
        "valX = valX.reshape(-1, 48, 48, 1)"
      ],
      "execution_count": 0,
      "outputs": []
    },
    {
      "cell_type": "code",
      "metadata": {
        "id": "CUb9Vu1gNvQA",
        "colab_type": "code",
        "colab": {}
      },
      "source": [
        "# Set up wandb\n",
        "!pip install wandb\n",
        "!wandb login"
      ],
      "execution_count": 0,
      "outputs": []
    },
    {
      "cell_type": "code",
      "metadata": {
        "id": "VV-4dpBHOCsm",
        "colab_type": "code",
        "colab": {}
      },
      "source": [
        "# Import wandb\n",
        "import wandb\n",
        "from wandb.keras import WandbCallback"
      ],
      "execution_count": 0,
      "outputs": []
    },
    {
      "cell_type": "code",
      "metadata": {
        "id": "xeJ-1Ac3X5uL",
        "colab_type": "code",
        "colab": {}
      },
      "source": [
        "# Instantiate a data augmentation pipeline\n",
        "from tensorflow.keras.preprocessing.image import ImageDataGenerator\n",
        "\n",
        "train_aug = ImageDataGenerator(zoom_range=0.15,\n",
        "\twidth_shift_range=0.2, height_shift_range=0.2)\n",
        "val_aug = ImageDataGenerator()"
      ],
      "execution_count": 0,
      "outputs": []
    },
    {
      "cell_type": "code",
      "metadata": {
        "id": "lFZHW_jC6sTp",
        "colab_type": "code",
        "colab": {}
      },
      "source": [
        "# To use Label Smoothing we need to use the CategoricalCrossentropy class\n",
        "from tensorflow.keras.losses import CategoricalCrossentropy"
      ],
      "execution_count": 0,
      "outputs": []
    },
    {
      "cell_type": "code",
      "metadata": {
        "id": "9YevbwwSYbdd",
        "colab_type": "code",
        "outputId": "c12f2001-a0b7-40f8-af2b-98ff019729e8",
        "colab": {
          "base_uri": "https://localhost:8080/",
          "height": 1000
        }
      },
      "source": [
        "# Train a mini VGG net with data augmentation, SGD & Label Smoothing\n",
        "wandb.init(project=\"emotion-detection\", entity=\"sayakpaul\", id=\"vgg-net-da-sgd-ls\")\n",
        "vgg_net = MiniVGGNetModel(len(LABELS))\n",
        "vgg_net.compile(loss=CategoricalCrossentropy(label_smoothing=0.1), optimizer=\"sgd\",\n",
        "\tmetrics=[\"accuracy\"])\n",
        "vgg_net.fit(train_aug.flow(trainX, trainY, batch_size=64),\n",
        "    steps_per_epoch=np.ceil(len(trainX)/64),\n",
        "    validation_data=val_aug.flow(valX, valY, batch_size=64), \n",
        "    validation_steps=np.ceil(len(valX)/64) ,\n",
        "    epochs=50,\n",
        "    class_weight=classWeight,\n",
        "    callbacks=[WandbCallback(data_type=\"image\", validation_data=(valX, valY), labels=LABELS)])"
      ],
      "execution_count": 0,
      "outputs": [
        {
          "output_type": "display_data",
          "data": {
            "text/html": [
              "\n",
              "                Logging results to <a href=\"https://wandb.com\" target=\"_blank\">Weights & Biases</a> <a href=\"https://docs.wandb.com/integrations/jupyter.html\" target=\"_blank\">(Documentation)</a>.<br/>\n",
              "                Project page: <a href=\"https://app.wandb.ai/sayakpaul/emotion-detection\" target=\"_blank\">https://app.wandb.ai/sayakpaul/emotion-detection</a><br/>\n",
              "                Run page: <a href=\"https://app.wandb.ai/sayakpaul/emotion-detection/runs/vgg-net-da-sgd-ls\" target=\"_blank\">https://app.wandb.ai/sayakpaul/emotion-detection/runs/vgg-net-da-sgd-ls</a><br/>\n",
              "            "
            ],
            "text/plain": [
              "<IPython.core.display.HTML object>"
            ]
          },
          "metadata": {
            "tags": []
          }
        },
        {
          "output_type": "stream",
          "text": [
            "WARNING:tensorflow:sample_weight modes were coerced from\n",
            "  ...\n",
            "    to  \n",
            "  ['...']\n",
            "Train for 382.0 steps, validate for 68.0 steps\n",
            "Epoch 1/50\n",
            "378/382 [============================>.] - ETA: 0s - loss: 2.4428 - accuracy: 0.1861"
          ],
          "name": "stdout"
        },
        {
          "output_type": "stream",
          "text": [
            "wandb: ERROR Can't save model, h5py returned error: Saving the model to HDF5 format requires the model to be a Functional model or a Sequential model. It does not work for subclassed models, because such models are defined via the body of a Python method, which isn't safely serializable. Consider saving to the Tensorflow SavedModel format (by setting save_format=\"tf\") or using `save_weights`.\n"
          ],
          "name": "stderr"
        },
        {
          "output_type": "stream",
          "text": [
            "382/382 [==============================] - 18s 47ms/step - loss: 2.4398 - accuracy: 0.1863 - val_loss: 1.8336 - val_accuracy: 0.2675\n",
            "Epoch 2/50\n",
            "382/382 [==============================] - 11s 29ms/step - loss: 2.0020 - accuracy: 0.2312 - val_loss: 1.7832 - val_accuracy: 0.3111\n",
            "Epoch 3/50\n",
            "382/382 [==============================] - 11s 29ms/step - loss: 1.8750 - accuracy: 0.2555 - val_loss: 1.7567 - val_accuracy: 0.3192\n",
            "Epoch 4/50\n",
            "382/382 [==============================] - 11s 29ms/step - loss: 1.8309 - accuracy: 0.2754 - val_loss: 1.7432 - val_accuracy: 0.3295\n",
            "Epoch 5/50\n",
            "382/382 [==============================] - 11s 29ms/step - loss: 1.8043 - accuracy: 0.2915 - val_loss: 1.7642 - val_accuracy: 0.3076\n",
            "Epoch 6/50\n",
            "382/382 [==============================] - 11s 28ms/step - loss: 1.7817 - accuracy: 0.3035 - val_loss: 2.0642 - val_accuracy: 0.2387\n",
            "Epoch 7/50\n",
            "382/382 [==============================] - 11s 29ms/step - loss: 1.7611 - accuracy: 0.3165 - val_loss: 1.7097 - val_accuracy: 0.3432\n",
            "Epoch 8/50\n",
            "382/382 [==============================] - 11s 29ms/step - loss: 1.7446 - accuracy: 0.3263 - val_loss: 1.7464 - val_accuracy: 0.3232\n",
            "Epoch 9/50\n",
            "382/382 [==============================] - 11s 29ms/step - loss: 1.7350 - accuracy: 0.3333 - val_loss: 1.6817 - val_accuracy: 0.3580\n",
            "Epoch 10/50\n",
            "382/382 [==============================] - 11s 29ms/step - loss: 1.7211 - accuracy: 0.3413 - val_loss: 1.6431 - val_accuracy: 0.3840\n",
            "Epoch 11/50\n",
            "382/382 [==============================] - 11s 28ms/step - loss: 1.7115 - accuracy: 0.3492 - val_loss: 1.6477 - val_accuracy: 0.3970\n",
            "Epoch 12/50\n",
            "382/382 [==============================] - 11s 28ms/step - loss: 1.7000 - accuracy: 0.3574 - val_loss: 1.6239 - val_accuracy: 0.4086\n",
            "Epoch 13/50\n",
            "382/382 [==============================] - 11s 29ms/step - loss: 1.6885 - accuracy: 0.3613 - val_loss: 1.6004 - val_accuracy: 0.4193\n",
            "Epoch 14/50\n",
            "382/382 [==============================] - 11s 28ms/step - loss: 1.6771 - accuracy: 0.3709 - val_loss: 1.6915 - val_accuracy: 0.3708\n",
            "Epoch 15/50\n",
            "382/382 [==============================] - 11s 28ms/step - loss: 1.6641 - accuracy: 0.3789 - val_loss: 1.7112 - val_accuracy: 0.3805\n",
            "Epoch 16/50\n",
            "382/382 [==============================] - 11s 28ms/step - loss: 1.6536 - accuracy: 0.3848 - val_loss: 1.5976 - val_accuracy: 0.4258\n",
            "Epoch 17/50\n",
            "382/382 [==============================] - 11s 28ms/step - loss: 1.6389 - accuracy: 0.3937 - val_loss: 1.5536 - val_accuracy: 0.4423\n",
            "Epoch 18/50\n",
            "382/382 [==============================] - 11s 29ms/step - loss: 1.6322 - accuracy: 0.3950 - val_loss: 1.5642 - val_accuracy: 0.4409\n",
            "Epoch 19/50\n",
            "382/382 [==============================] - 11s 28ms/step - loss: 1.6218 - accuracy: 0.4013 - val_loss: 1.6751 - val_accuracy: 0.3829\n",
            "Epoch 20/50\n",
            "382/382 [==============================] - 11s 29ms/step - loss: 1.6053 - accuracy: 0.4088 - val_loss: 1.5719 - val_accuracy: 0.4430\n",
            "Epoch 21/50\n",
            "382/382 [==============================] - 11s 28ms/step - loss: 1.5985 - accuracy: 0.4165 - val_loss: 1.5744 - val_accuracy: 0.4360\n",
            "Epoch 22/50\n",
            "382/382 [==============================] - 11s 28ms/step - loss: 1.5883 - accuracy: 0.4206 - val_loss: 1.5099 - val_accuracy: 0.4683\n",
            "Epoch 23/50\n",
            "382/382 [==============================] - 11s 28ms/step - loss: 1.5892 - accuracy: 0.4193 - val_loss: 1.5158 - val_accuracy: 0.4655\n",
            "Epoch 24/50\n",
            "382/382 [==============================] - 11s 29ms/step - loss: 1.5799 - accuracy: 0.4234 - val_loss: 1.5374 - val_accuracy: 0.4483\n",
            "Epoch 25/50\n",
            "382/382 [==============================] - 11s 28ms/step - loss: 1.5705 - accuracy: 0.4329 - val_loss: 1.5601 - val_accuracy: 0.4488\n",
            "Epoch 26/50\n",
            "382/382 [==============================] - 11s 29ms/step - loss: 1.5647 - accuracy: 0.4347 - val_loss: 1.5603 - val_accuracy: 0.4356\n",
            "Epoch 27/50\n",
            "382/382 [==============================] - 11s 29ms/step - loss: 1.5551 - accuracy: 0.4385 - val_loss: 1.5107 - val_accuracy: 0.4671\n",
            "Epoch 28/50\n",
            "382/382 [==============================] - 11s 28ms/step - loss: 1.5474 - accuracy: 0.4455 - val_loss: 1.4985 - val_accuracy: 0.4769\n",
            "Epoch 29/50\n",
            "382/382 [==============================] - 11s 29ms/step - loss: 1.5400 - accuracy: 0.4464 - val_loss: 1.6016 - val_accuracy: 0.4177\n",
            "Epoch 30/50\n",
            "382/382 [==============================] - 11s 29ms/step - loss: 1.5370 - accuracy: 0.4505 - val_loss: 1.5097 - val_accuracy: 0.4741\n",
            "Epoch 31/50\n",
            "382/382 [==============================] - 11s 29ms/step - loss: 1.5338 - accuracy: 0.4513 - val_loss: 1.4899 - val_accuracy: 0.4829\n",
            "Epoch 32/50\n",
            "382/382 [==============================] - 11s 28ms/step - loss: 1.5275 - accuracy: 0.4571 - val_loss: 1.5180 - val_accuracy: 0.4685\n",
            "Epoch 33/50\n",
            "382/382 [==============================] - 11s 29ms/step - loss: 1.5174 - accuracy: 0.4631 - val_loss: 1.4582 - val_accuracy: 0.4969\n",
            "Epoch 34/50\n",
            "382/382 [==============================] - 11s 29ms/step - loss: 1.5147 - accuracy: 0.4659 - val_loss: 1.4685 - val_accuracy: 0.4850\n",
            "Epoch 35/50\n",
            "382/382 [==============================] - 11s 29ms/step - loss: 1.5101 - accuracy: 0.4658 - val_loss: 1.4480 - val_accuracy: 0.5022\n",
            "Epoch 36/50\n",
            "382/382 [==============================] - 11s 29ms/step - loss: 1.5037 - accuracy: 0.4652 - val_loss: 1.4699 - val_accuracy: 0.4990\n",
            "Epoch 37/50\n",
            "382/382 [==============================] - 11s 29ms/step - loss: 1.4972 - accuracy: 0.4736 - val_loss: 1.4945 - val_accuracy: 0.4674\n",
            "Epoch 38/50\n",
            "382/382 [==============================] - 11s 29ms/step - loss: 1.4986 - accuracy: 0.4737 - val_loss: 1.4480 - val_accuracy: 0.5082\n",
            "Epoch 39/50\n",
            "382/382 [==============================] - 11s 29ms/step - loss: 1.4930 - accuracy: 0.4735 - val_loss: 1.4838 - val_accuracy: 0.4718\n",
            "Epoch 40/50\n",
            "382/382 [==============================] - 11s 29ms/step - loss: 1.4907 - accuracy: 0.4770 - val_loss: 1.4239 - val_accuracy: 0.5122\n",
            "Epoch 41/50\n",
            "382/382 [==============================] - 11s 29ms/step - loss: 1.4870 - accuracy: 0.4779 - val_loss: 1.4639 - val_accuracy: 0.4869\n",
            "Epoch 42/50\n",
            "382/382 [==============================] - 11s 30ms/step - loss: 1.4823 - accuracy: 0.4825 - val_loss: 1.4219 - val_accuracy: 0.5243\n",
            "Epoch 43/50\n",
            "382/382 [==============================] - 11s 29ms/step - loss: 1.4740 - accuracy: 0.4879 - val_loss: 1.4292 - val_accuracy: 0.5199\n",
            "Epoch 44/50\n",
            "382/382 [==============================] - 11s 29ms/step - loss: 1.4717 - accuracy: 0.4869 - val_loss: 1.4208 - val_accuracy: 0.5199\n",
            "Epoch 45/50\n",
            "382/382 [==============================] - 11s 29ms/step - loss: 1.4672 - accuracy: 0.4868 - val_loss: 1.4093 - val_accuracy: 0.5226\n",
            "Epoch 46/50\n",
            "382/382 [==============================] - 11s 30ms/step - loss: 1.4639 - accuracy: 0.4902 - val_loss: 1.4614 - val_accuracy: 0.4932\n",
            "Epoch 47/50\n",
            "382/382 [==============================] - 11s 29ms/step - loss: 1.4651 - accuracy: 0.4923 - val_loss: 1.4404 - val_accuracy: 0.5171\n",
            "Epoch 48/50\n",
            "382/382 [==============================] - 11s 29ms/step - loss: 1.4630 - accuracy: 0.4918 - val_loss: 1.3930 - val_accuracy: 0.5366\n",
            "Epoch 49/50\n",
            "382/382 [==============================] - 11s 29ms/step - loss: 1.4574 - accuracy: 0.4929 - val_loss: 1.4422 - val_accuracy: 0.5101\n",
            "Epoch 50/50\n",
            "382/382 [==============================] - 11s 29ms/step - loss: 1.4567 - accuracy: 0.4960 - val_loss: 1.4165 - val_accuracy: 0.5329\n"
          ],
          "name": "stdout"
        },
        {
          "output_type": "execute_result",
          "data": {
            "text/plain": [
              "<tensorflow.python.keras.callbacks.History at 0x7f7fe03ca160>"
            ]
          },
          "metadata": {
            "tags": []
          },
          "execution_count": 29
        }
      ]
    }
  ]
}