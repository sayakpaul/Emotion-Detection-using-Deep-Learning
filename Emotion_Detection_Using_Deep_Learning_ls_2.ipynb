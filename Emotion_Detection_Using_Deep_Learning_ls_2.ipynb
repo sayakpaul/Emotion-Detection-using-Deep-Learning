{
  "nbformat": 4,
  "nbformat_minor": 0,
  "metadata": {
    "colab": {
      "name": "Emotion_Detection_Using_Deep_Learning_ls_2.ipynb",
      "provenance": [],
      "collapsed_sections": [],
      "authorship_tag": "ABX9TyP7ei+J84maZi/vzmqAhAlr",
      "include_colab_link": true
    },
    "kernelspec": {
      "name": "python3",
      "display_name": "Python 3"
    },
    "accelerator": "GPU"
  },
  "cells": [
    {
      "cell_type": "markdown",
      "metadata": {
        "id": "view-in-github",
        "colab_type": "text"
      },
      "source": [
        "<a href=\"https://colab.research.google.com/github/sayakpaul/Emotion-Detection-using-Deep-Learning/blob/master/Emotion_Detection_Using_Deep_Learning_ls_2.ipynb\" target=\"_parent\"><img src=\"https://colab.research.google.com/assets/colab-badge.svg\" alt=\"Open In Colab\"/></a>"
      ]
    },
    {
      "cell_type": "code",
      "metadata": {
        "id": "kOnkXJVR-vNa",
        "colab_type": "code",
        "colab": {
          "base_uri": "https://localhost:8080/",
          "height": 34
        },
        "outputId": "36ce7125-def0-4d0b-9027-d2666e5d0d0f"
      },
      "source": [
        "# Select TensorFlow 2.0 environment\n",
        "%tensorflow_version 2.x"
      ],
      "execution_count": 1,
      "outputs": [
        {
          "output_type": "stream",
          "text": [
            "TensorFlow 2.x selected.\n"
          ],
          "name": "stdout"
        }
      ]
    },
    {
      "cell_type": "markdown",
      "metadata": {
        "id": "JSbkNyrz5xkL",
        "colab_type": "text"
      },
      "source": [
        "You need to get your API key from your Kaggle account to be able to proceed with the following. "
      ]
    },
    {
      "cell_type": "code",
      "metadata": {
        "id": "axYnT4qp-3E3",
        "colab_type": "code",
        "colab": {}
      },
      "source": [
        "# Google Colab imports for setting up Kaggle\n",
        "from google.colab import files\n",
        "files.upload()"
      ],
      "execution_count": 0,
      "outputs": []
    },
    {
      "cell_type": "code",
      "metadata": {
        "id": "67YOp6Y9-7BI",
        "colab_type": "code",
        "colab": {}
      },
      "source": [
        "# Set up Kaggle\n",
        "!mkdir ~/.kaggle\n",
        "!cp kaggle.json ~/.kaggle/\n",
        "!chmod 600 ~/.kaggle/kaggle.json"
      ],
      "execution_count": 0,
      "outputs": []
    },
    {
      "cell_type": "code",
      "metadata": {
        "id": "caJiwp3y_Agi",
        "colab_type": "code",
        "outputId": "f85ca150-7dfa-4a89-fcf5-072724646160",
        "colab": {
          "base_uri": "https://localhost:8080/",
          "height": 289
        }
      },
      "source": [
        "# Download the data\n",
        "# https://www.kaggle.com/c/challenges-in-representation-learning-facial-expression-recognition-challenge/\n",
        "!kaggle competitions download -c challenges-in-representation-learning-facial-expression-recognition-challenge"
      ],
      "execution_count": 4,
      "outputs": [
        {
          "output_type": "stream",
          "text": [
            "Warning: Looks like you're using an outdated API Version, please consider updating (server 1.5.6 / client 1.5.4)\n",
            "Downloading test.csv.zip to /content\n",
            " 26% 5.00M/19.3M [00:00<00:01, 12.7MB/s]\n",
            "100% 19.3M/19.3M [00:00<00:00, 43.6MB/s]\n",
            "Downloading fer2013.tar.gz to /content\n",
            " 78% 72.0M/92.0M [00:01<00:00, 30.9MB/s]\n",
            "100% 92.0M/92.0M [00:01<00:00, 54.5MB/s]\n",
            "Downloading example_submission.csv to /content\n",
            "  0% 0.00/7.01k [00:00<?, ?B/s]\n",
            "100% 7.01k/7.01k [00:00<00:00, 18.1MB/s]\n",
            "Downloading icml_face_data.csv.zip to /content\n",
            " 76% 73.0M/96.6M [00:01<00:00, 42.0MB/s]\n",
            "100% 96.6M/96.6M [00:01<00:00, 69.0MB/s]\n",
            "Downloading train.csv.zip to /content\n",
            " 87% 67.0M/77.3M [00:01<00:00, 36.5MB/s]\n",
            "100% 77.3M/77.3M [00:01<00:00, 56.9MB/s]\n"
          ],
          "name": "stdout"
        }
      ]
    },
    {
      "cell_type": "code",
      "metadata": {
        "id": "34neb1rU_Ek9",
        "colab_type": "code",
        "colab": {}
      },
      "source": [
        "# Unzip dataset\n",
        "!unzip -qq icml_face_data.csv.zip\n",
        "!unzip -qq test.csv.zip\n",
        "!unzip -qq train.csv.zip"
      ],
      "execution_count": 0,
      "outputs": []
    },
    {
      "cell_type": "code",
      "metadata": {
        "id": "qSgtCIaq_iuf",
        "colab_type": "code",
        "colab": {}
      },
      "source": [
        "# General imports\n",
        "from tqdm import tqdm\n",
        "import matplotlib.pyplot as plt\n",
        "import pandas as pd\n",
        "import numpy as np"
      ],
      "execution_count": 0,
      "outputs": []
    },
    {
      "cell_type": "code",
      "metadata": {
        "id": "I4fcMaGFAQrN",
        "colab_type": "code",
        "outputId": "3f73217d-4223-4682-f2c7-bf1aea8583f3",
        "colab": {
          "base_uri": "https://localhost:8080/",
          "height": 204
        }
      },
      "source": [
        "# Load up the training dataset\n",
        "train = pd.read_csv(\"train.csv\")\n",
        "train.head()"
      ],
      "execution_count": 7,
      "outputs": [
        {
          "output_type": "execute_result",
          "data": {
            "text/html": [
              "<div>\n",
              "<style scoped>\n",
              "    .dataframe tbody tr th:only-of-type {\n",
              "        vertical-align: middle;\n",
              "    }\n",
              "\n",
              "    .dataframe tbody tr th {\n",
              "        vertical-align: top;\n",
              "    }\n",
              "\n",
              "    .dataframe thead th {\n",
              "        text-align: right;\n",
              "    }\n",
              "</style>\n",
              "<table border=\"1\" class=\"dataframe\">\n",
              "  <thead>\n",
              "    <tr style=\"text-align: right;\">\n",
              "      <th></th>\n",
              "      <th>emotion</th>\n",
              "      <th>pixels</th>\n",
              "    </tr>\n",
              "  </thead>\n",
              "  <tbody>\n",
              "    <tr>\n",
              "      <th>0</th>\n",
              "      <td>0</td>\n",
              "      <td>70 80 82 72 58 58 60 63 54 58 60 48 89 115 121...</td>\n",
              "    </tr>\n",
              "    <tr>\n",
              "      <th>1</th>\n",
              "      <td>0</td>\n",
              "      <td>151 150 147 155 148 133 111 140 170 174 182 15...</td>\n",
              "    </tr>\n",
              "    <tr>\n",
              "      <th>2</th>\n",
              "      <td>2</td>\n",
              "      <td>231 212 156 164 174 138 161 173 182 200 106 38...</td>\n",
              "    </tr>\n",
              "    <tr>\n",
              "      <th>3</th>\n",
              "      <td>4</td>\n",
              "      <td>24 32 36 30 32 23 19 20 30 41 21 22 32 34 21 1...</td>\n",
              "    </tr>\n",
              "    <tr>\n",
              "      <th>4</th>\n",
              "      <td>6</td>\n",
              "      <td>4 0 0 0 0 0 0 0 0 0 0 0 3 15 23 28 48 50 58 84...</td>\n",
              "    </tr>\n",
              "  </tbody>\n",
              "</table>\n",
              "</div>"
            ],
            "text/plain": [
              "   emotion                                             pixels\n",
              "0        0  70 80 82 72 58 58 60 63 54 58 60 48 89 115 121...\n",
              "1        0  151 150 147 155 148 133 111 140 170 174 182 15...\n",
              "2        2  231 212 156 164 174 138 161 173 182 200 106 38...\n",
              "3        4  24 32 36 30 32 23 19 20 30 41 21 22 32 34 21 1...\n",
              "4        6  4 0 0 0 0 0 0 0 0 0 0 0 3 15 23 28 48 50 58 84..."
            ]
          },
          "metadata": {
            "tags": []
          },
          "execution_count": 7
        }
      ]
    },
    {
      "cell_type": "code",
      "metadata": {
        "id": "I05tBXyaGztD",
        "colab_type": "code",
        "outputId": "cd9eee22-8ae5-4d38-b550-d9d80ec13d82",
        "colab": {
          "base_uri": "https://localhost:8080/",
          "height": 153
        }
      },
      "source": [
        "# Class distribution\n",
        "train[\"emotion\"].value_counts()"
      ],
      "execution_count": 8,
      "outputs": [
        {
          "output_type": "execute_result",
          "data": {
            "text/plain": [
              "3    7215\n",
              "6    4965\n",
              "4    4830\n",
              "2    4097\n",
              "0    3995\n",
              "5    3171\n",
              "1     436\n",
              "Name: emotion, dtype: int64"
            ]
          },
          "metadata": {
            "tags": []
          },
          "execution_count": 8
        }
      ]
    },
    {
      "cell_type": "markdown",
      "metadata": {
        "id": "_oGPWHJuP0pY",
        "colab_type": "text"
      },
      "source": [
        "Class imbalance noticed."
      ]
    },
    {
      "cell_type": "code",
      "metadata": {
        "id": "tugm4rNZEVpM",
        "colab_type": "code",
        "outputId": "8bdcf09f-9511-4599-9552-69535f9347a1",
        "colab": {
          "base_uri": "https://localhost:8080/",
          "height": 204
        }
      },
      "source": [
        "# Load test dataset\n",
        "test = pd.read_csv(\"test.csv\")\n",
        "test.head()"
      ],
      "execution_count": 9,
      "outputs": [
        {
          "output_type": "execute_result",
          "data": {
            "text/html": [
              "<div>\n",
              "<style scoped>\n",
              "    .dataframe tbody tr th:only-of-type {\n",
              "        vertical-align: middle;\n",
              "    }\n",
              "\n",
              "    .dataframe tbody tr th {\n",
              "        vertical-align: top;\n",
              "    }\n",
              "\n",
              "    .dataframe thead th {\n",
              "        text-align: right;\n",
              "    }\n",
              "</style>\n",
              "<table border=\"1\" class=\"dataframe\">\n",
              "  <thead>\n",
              "    <tr style=\"text-align: right;\">\n",
              "      <th></th>\n",
              "      <th>pixels</th>\n",
              "    </tr>\n",
              "  </thead>\n",
              "  <tbody>\n",
              "    <tr>\n",
              "      <th>0</th>\n",
              "      <td>254 254 254 254 254 249 255 160 2 58 53 70 77 ...</td>\n",
              "    </tr>\n",
              "    <tr>\n",
              "      <th>1</th>\n",
              "      <td>156 184 198 202 204 207 210 212 213 214 215 21...</td>\n",
              "    </tr>\n",
              "    <tr>\n",
              "      <th>2</th>\n",
              "      <td>69 118 61 60 96 121 103 87 103 88 70 90 115 12...</td>\n",
              "    </tr>\n",
              "    <tr>\n",
              "      <th>3</th>\n",
              "      <td>205 203 236 157 83 158 120 116 94 86 155 180 2...</td>\n",
              "    </tr>\n",
              "    <tr>\n",
              "      <th>4</th>\n",
              "      <td>87 79 74 66 74 96 77 80 80 84 83 89 102 91 84 ...</td>\n",
              "    </tr>\n",
              "  </tbody>\n",
              "</table>\n",
              "</div>"
            ],
            "text/plain": [
              "                                              pixels\n",
              "0  254 254 254 254 254 249 255 160 2 58 53 70 77 ...\n",
              "1  156 184 198 202 204 207 210 212 213 214 215 21...\n",
              "2  69 118 61 60 96 121 103 87 103 88 70 90 115 12...\n",
              "3  205 203 236 157 83 158 120 116 94 86 155 180 2...\n",
              "4  87 79 74 66 74 96 77 80 80 84 83 89 102 91 84 ..."
            ]
          },
          "metadata": {
            "tags": []
          },
          "execution_count": 9
        }
      ]
    },
    {
      "cell_type": "markdown",
      "metadata": {
        "id": "TMRozBIWAd8C",
        "colab_type": "text"
      },
      "source": [
        "Note on the label mapping:\n",
        "\n",
        "(0=Angry, 1=Disgust, 2=Fear, 3=Happy, 4=Sad, 5=Surprise, 6=Neutral)"
      ]
    },
    {
      "cell_type": "code",
      "metadata": {
        "id": "rqzUp-dIAU3Y",
        "colab_type": "code",
        "colab": {}
      },
      "source": [
        "# Function to clean the dataset\n",
        "# Taken from http://bit.ly/37AUk7f\n",
        "def clean_data(dataframe):\n",
        "    image_pixels = np.zeros(shape=(len(dataframe), 48, 48))\n",
        "    labels = np.zeros(shape=(len(dataframe), ))\n",
        "    for (i, row) in tqdm(dataframe.iterrows()):\n",
        "        image = np.fromstring(row[\"pixels\"], dtype=int, sep=' ')\n",
        "        image = image.reshape(48, 48)\n",
        "        image = image.astype(\"float\")/255\n",
        "        \n",
        "        image_pixels[i] = image\n",
        "        labels[i] = row[\"emotion\"]\n",
        "    \n",
        "    return (image_pixels, labels)"
      ],
      "execution_count": 0,
      "outputs": []
    },
    {
      "cell_type": "code",
      "metadata": {
        "id": "KtreWITkAoSi",
        "colab_type": "code",
        "outputId": "1c616d06-002f-476d-9007-0497bf69e83a",
        "colab": {
          "base_uri": "https://localhost:8080/",
          "height": 51
        }
      },
      "source": [
        "# Clean the training dataset and verify the shapes\n",
        "(train_pixels, train_labels) = clean_data(train)\n",
        "train_pixels.shape, train_labels.shape"
      ],
      "execution_count": 11,
      "outputs": [
        {
          "output_type": "stream",
          "text": [
            "28709it [00:05, 5601.70it/s]\n"
          ],
          "name": "stderr"
        },
        {
          "output_type": "execute_result",
          "data": {
            "text/plain": [
              "((28709, 48, 48), (28709,))"
            ]
          },
          "metadata": {
            "tags": []
          },
          "execution_count": 11
        }
      ]
    },
    {
      "cell_type": "code",
      "metadata": {
        "id": "aaZtUxc1IKOy",
        "colab_type": "code",
        "colab": {}
      },
      "source": [
        "# sklearn and other utility imports\n",
        "from sklearn.model_selection import train_test_split\n",
        "from sklearn.preprocessing import LabelEncoder\n",
        "from tensorflow.keras.utils import to_categorical"
      ],
      "execution_count": 0,
      "outputs": []
    },
    {
      "cell_type": "code",
      "metadata": {
        "id": "QLtIOejPIkOY",
        "colab_type": "code",
        "colab": {}
      },
      "source": [
        "# One-hot encode the labels\n",
        "le = LabelEncoder().fit(train_labels)\n",
        "train_labels = to_categorical(le.transform(train_labels), 7)"
      ],
      "execution_count": 0,
      "outputs": []
    },
    {
      "cell_type": "code",
      "metadata": {
        "id": "TJAZX2B1I1q0",
        "colab_type": "code",
        "outputId": "ee175215-98d1-4eae-aa5b-55e86b40d3b4",
        "colab": {
          "base_uri": "https://localhost:8080/",
          "height": 34
        }
      },
      "source": [
        "train_labels.shape"
      ],
      "execution_count": 14,
      "outputs": [
        {
          "output_type": "execute_result",
          "data": {
            "text/plain": [
              "(28709, 7)"
            ]
          },
          "metadata": {
            "tags": []
          },
          "execution_count": 14
        }
      ]
    },
    {
      "cell_type": "code",
      "metadata": {
        "id": "cFXCWLEIH2qT",
        "colab_type": "code",
        "outputId": "88683808-d201-437a-d0a5-208e9db5dd35",
        "colab": {
          "base_uri": "https://localhost:8080/",
          "height": 34
        }
      },
      "source": [
        "# Split the training data into further partial training and validation data\n",
        "(trainX, valX, trainY, valY) = train_test_split(train_pixels,\n",
        "    train_labels, test_size=0.15, stratify=train_labels, random_state=42)\n",
        "trainX.shape, trainY.shape, valX.shape, valY.shape"
      ],
      "execution_count": 15,
      "outputs": [
        {
          "output_type": "execute_result",
          "data": {
            "text/plain": [
              "((24402, 48, 48), (24402, 7), (4307, 48, 48), (4307, 7))"
            ]
          },
          "metadata": {
            "tags": []
          },
          "execution_count": 15
        }
      ]
    },
    {
      "cell_type": "code",
      "metadata": {
        "id": "g3Liy4gy-xje",
        "colab_type": "code",
        "outputId": "3d4e2c35-d613-45a0-e72e-104637bd98d1",
        "colab": {
          "base_uri": "https://localhost:8080/",
          "height": 34
        }
      },
      "source": [
        "# Serialize the data for later reproducibility\n",
        "np.save(\"trainX.npy\", trainX), np.save(\"trainY.npy\", trainY)\n",
        "np.save(\"valX.npy\", valX), np.save(\"valY.npy\", valY)"
      ],
      "execution_count": 16,
      "outputs": [
        {
          "output_type": "execute_result",
          "data": {
            "text/plain": [
              "(None, None)"
            ]
          },
          "metadata": {
            "tags": []
          },
          "execution_count": 16
        }
      ]
    },
    {
      "cell_type": "code",
      "metadata": {
        "id": "U3M0z8zoL9K8",
        "colab_type": "code",
        "outputId": "871b2fed-8a77-45fb-cc03-e4cae5df4faf",
        "colab": {
          "base_uri": "https://localhost:8080/",
          "height": 34
        }
      },
      "source": [
        "# Load it like this\n",
        "trainX, trainY = np.load(\"trainX.npy\"), np.load(\"trainY.npy\")\n",
        "valX, valY = np.load(\"valX.npy\"), np.load(\"valY.npy\")\n",
        "trainX.shape, trainY.shape, valX.shape, valY.shape"
      ],
      "execution_count": 17,
      "outputs": [
        {
          "output_type": "execute_result",
          "data": {
            "text/plain": [
              "((24402, 48, 48), (24402, 7), (4307, 48, 48), (4307, 7))"
            ]
          },
          "metadata": {
            "tags": []
          },
          "execution_count": 17
        }
      ]
    },
    {
      "cell_type": "code",
      "metadata": {
        "id": "j-vzxKMHHLLj",
        "colab_type": "code",
        "colab": {}
      },
      "source": [
        "# Account for skew in the labeled data\n",
        "classTotals = trainY.sum(axis=0)\n",
        "classWeight = classTotals.max() / classTotals"
      ],
      "execution_count": 0,
      "outputs": []
    },
    {
      "cell_type": "code",
      "metadata": {
        "id": "NktmFLvMMCUI",
        "colab_type": "code",
        "colab": {}
      },
      "source": [
        "# Define the label mapping\n",
        "LABELS = {\n",
        "    0: \"Angry\", \n",
        "    1: \"Disgust\", \n",
        "    2: \"Fear\",\n",
        "    3: \"Happy\", \n",
        "    4: \"Sad\", \n",
        "    5: \"Surprise\", \n",
        "    6: \"Neutral\"\n",
        "}"
      ],
      "execution_count": 0,
      "outputs": []
    },
    {
      "cell_type": "code",
      "metadata": {
        "id": "Hzuhav_kMjm5",
        "colab_type": "code",
        "outputId": "7a5d6e45-1659-4073-a663-d142c69fda5c",
        "colab": {
          "base_uri": "https://localhost:8080/",
          "height": 1000
        }
      },
      "source": [
        "# Spot check the dataset\n",
        "train_idx = np.random.choice(len(trainX), 5)\n",
        "for id in train_idx:\n",
        "    plt.imshow(trainX[id].reshape(48, 48), cmap=\"gray\")\n",
        "    plt.xlabel(LABELS[np.argmax(trainY[id])])\n",
        "    plt.show()"
      ],
      "execution_count": 20,
      "outputs": [
        {
          "output_type": "display_data",
          "data": {
            "image/png": "[encoded data removed]",
            "text/plain": [
              "<Figure size 432x288 with 1 Axes>"
            ]
          },
          "metadata": {
            "tags": []
          }
        },
        {
          "output_type": "display_data",
          "data": {
            "image/png": "[encoded data removed]",
            "text/plain": [
              "<Figure size 432x288 with 1 Axes>"
            ]
          },
          "metadata": {
            "tags": []
          }
        },
        {
          "output_type": "display_data",
          "data": {
            "image/png": "[encoded data removed]",
            "text/plain": [
              "<Figure size 432x288 with 1 Axes>"
            ]
          },
          "metadata": {
            "tags": []
          }
        },
        {
          "output_type": "display_data",
          "data": {
            "image/png": "[encoded data removed]",
            "text/plain": [
              "<Figure size 432x288 with 1 Axes>"
            ]
          },
          "metadata": {
            "tags": []
          }
        },
        {
          "output_type": "display_data",
          "data": {
            "image/png": "[encoded data removed]",
            "text/plain": [
              "<Figure size 432x288 with 1 Axes>"
            ]
          },
          "metadata": {
            "tags": []
          }
        }
      ]
    },
    {
      "cell_type": "markdown",
      "metadata": {
        "id": "ycW0ruOU7dD8",
        "colab_type": "text"
      },
      "source": [
        "For modeling purposes, we are going to use the following architecture:\n",
        "- Mini VGGNet\n",
        "\n",
        "For architectural details and discussions follow this article: https://www.pyimagesearch.com/2019/10/28/3-ways-to-create-a-keras-model-with-tensorflow-2-0-sequential-functional-and-model-subclassing/. "
      ]
    },
    {
      "cell_type": "code",
      "metadata": {
        "id": "9I5CZdTdJEgk",
        "colab_type": "code",
        "outputId": "68dcd165-9d93-492b-b008-caad3910614a",
        "colab": {
          "base_uri": "https://localhost:8080/",
          "height": 204
        }
      },
      "source": [
        "# Comes from http://bit.ly/2U8ntCX\n",
        "!wget https://raw.githubusercontent.com/sayakpaul/ML-Bootcamp-Launchpad/master/pyimagesearch/models.py"
      ],
      "execution_count": 21,
      "outputs": [
        {
          "output_type": "stream",
          "text": [
            "--2020-02-14 15:03:58--  https://raw.githubusercontent.com/sayakpaul/ML-Bootcamp-Launchpad/master/pyimagesearch/models.py\n",
            "Resolving raw.githubusercontent.com (raw.githubusercontent.com)... 151.101.0.133, 151.101.64.133, 151.101.128.133, ...\n",
            "Connecting to raw.githubusercontent.com (raw.githubusercontent.com)|151.101.0.133|:443... connected.\n",
            "HTTP request sent, awaiting response... 200 OK\n",
            "Length: 5217 (5.1K) [text/plain]\n",
            "Saving to: ‘models.py’\n",
            "\n",
            "\rmodels.py             0%[                    ]       0  --.-KB/s               \rmodels.py           100%[===================>]   5.09K  --.-KB/s    in 0s      \n",
            "\n",
            "2020-02-14 15:03:58 (123 MB/s) - ‘models.py’ saved [5217/5217]\n",
            "\n"
          ],
          "name": "stdout"
        }
      ]
    },
    {
      "cell_type": "code",
      "metadata": {
        "id": "YO_-6F86LRdi",
        "colab_type": "code",
        "colab": {}
      },
      "source": [
        "# PyImageSearch imports\n",
        "from models import MiniVGGNetModel"
      ],
      "execution_count": 0,
      "outputs": []
    },
    {
      "cell_type": "code",
      "metadata": {
        "id": "0acbio2XL9za",
        "colab_type": "code",
        "colab": {}
      },
      "source": [
        "# Convnets would require a channel dimension\n",
        "trainX = trainX.reshape(-1, 48, 48, 1)\n",
        "valX = valX.reshape(-1, 48, 48, 1)"
      ],
      "execution_count": 0,
      "outputs": []
    },
    {
      "cell_type": "code",
      "metadata": {
        "id": "CUb9Vu1gNvQA",
        "colab_type": "code",
        "colab": {}
      },
      "source": [
        "# Set up wandb\n",
        "!pip install wandb\n",
        "!wandb login"
      ],
      "execution_count": 0,
      "outputs": []
    },
    {
      "cell_type": "code",
      "metadata": {
        "id": "VV-4dpBHOCsm",
        "colab_type": "code",
        "colab": {}
      },
      "source": [
        "# Import wandb\n",
        "import wandb\n",
        "from wandb.keras import WandbCallback"
      ],
      "execution_count": 0,
      "outputs": []
    },
    {
      "cell_type": "code",
      "metadata": {
        "id": "lFZHW_jC6sTp",
        "colab_type": "code",
        "colab": {}
      },
      "source": [
        "# To use Label Smoothing we need to use the CategoricalCrossentropy class\n",
        "from tensorflow.keras.losses import CategoricalCrossentropy"
      ],
      "execution_count": 0,
      "outputs": []
    },
    {
      "cell_type": "code",
      "metadata": {
        "id": "9YevbwwSYbdd",
        "colab_type": "code",
        "outputId": "ec49ea89-4959-4b47-d571-4cb860eef138",
        "colab": {
          "base_uri": "https://localhost:8080/",
          "height": 1000
        }
      },
      "source": [
        "# Train a mini VGG net with data augmentation, SGD & Label Smoothing\n",
        "wandb.init(project=\"emotion-detection\", entity=\"sayakpaul\", id=\"vgg-net-sgd-ls\")\n",
        "vgg_net = MiniVGGNetModel(len(LABELS))\n",
        "vgg_net.compile(loss=CategoricalCrossentropy(label_smoothing=0.1), optimizer=\"sgd\",\n",
        "\tmetrics=[\"accuracy\"])\n",
        "vgg_net.fit(trainX, trainY,\n",
        "    batch_size=64,\n",
        "    validation_data=(valX, valY), \n",
        "    epochs=50,\n",
        "    class_weight=classWeight,\n",
        "    callbacks=[WandbCallback(data_type=\"image\", validation_data=(valX, valY), labels=LABELS)])"
      ],
      "execution_count": 29,
      "outputs": [
        {
          "output_type": "display_data",
          "data": {
            "text/html": [
              "\n",
              "                Logging results to <a href=\"https://wandb.com\" target=\"_blank\">Weights & Biases</a> <a href=\"https://docs.wandb.com/integrations/jupyter.html\" target=\"_blank\">(Documentation)</a>.<br/>\n",
              "                Project page: <a href=\"https://app.wandb.ai/sayakpaul/emotion-detection\" target=\"_blank\">https://app.wandb.ai/sayakpaul/emotion-detection</a><br/>\n",
              "                Run page: <a href=\"https://app.wandb.ai/sayakpaul/emotion-detection/runs/vgg-net-sgd-ls\" target=\"_blank\">https://app.wandb.ai/sayakpaul/emotion-detection/runs/vgg-net-sgd-ls</a><br/>\n",
              "            "
            ],
            "text/plain": [
              "<IPython.core.display.HTML object>"
            ]
          },
          "metadata": {
            "tags": []
          }
        },
        {
          "output_type": "stream",
          "text": [
            "Train on 24402 samples, validate on 4307 samples\n",
            "Epoch 1/50\n",
            "24192/24402 [============================>.] - ETA: 0s - loss: 2.2817 - accuracy: 0.2760"
          ],
          "name": "stdout"
        },
        {
          "output_type": "stream",
          "text": [
            "wandb: ERROR Can't save model, h5py returned error: Saving the model to HDF5 format requires the model to be a Functional model or a Sequential model. It does not work for subclassed models, because such models are defined via the body of a Python method, which isn't safely serializable. Consider saving to the Tensorflow SavedModel format (by setting save_format=\"tf\") or using `save_weights`.\n"
          ],
          "name": "stderr"
        },
        {
          "output_type": "stream",
          "text": [
            "24402/24402 [==============================] - 14s 565us/sample - loss: 2.2785 - accuracy: 0.2767 - val_loss: 1.9800 - val_accuracy: 0.2610\n",
            "Epoch 2/50\n",
            "24402/24402 [==============================] - 5s 212us/sample - loss: 1.7522 - accuracy: 0.3887 - val_loss: 1.5828 - val_accuracy: 0.4472\n",
            "Epoch 3/50\n",
            "24402/24402 [==============================] - 5s 214us/sample - loss: 1.5944 - accuracy: 0.4396 - val_loss: 1.5570 - val_accuracy: 0.4586\n",
            "Epoch 4/50\n",
            "24402/24402 [==============================] - 5s 217us/sample - loss: 1.5153 - accuracy: 0.4767 - val_loss: 1.5286 - val_accuracy: 0.4662\n",
            "Epoch 5/50\n",
            "24402/24402 [==============================] - 5s 215us/sample - loss: 1.4674 - accuracy: 0.5016 - val_loss: 1.5028 - val_accuracy: 0.4813\n",
            "Epoch 6/50\n",
            "24402/24402 [==============================] - 5s 213us/sample - loss: 1.4223 - accuracy: 0.5235 - val_loss: 1.4717 - val_accuracy: 0.4950\n",
            "Epoch 7/50\n",
            "24402/24402 [==============================] - 5s 213us/sample - loss: 1.3937 - accuracy: 0.5366 - val_loss: 1.5075 - val_accuracy: 0.4769\n",
            "Epoch 8/50\n",
            "24402/24402 [==============================] - 5s 211us/sample - loss: 1.3618 - accuracy: 0.5525 - val_loss: 1.4791 - val_accuracy: 0.4920\n",
            "Epoch 9/50\n",
            "24402/24402 [==============================] - 5s 213us/sample - loss: 1.3319 - accuracy: 0.5706 - val_loss: 1.5671 - val_accuracy: 0.4414\n",
            "Epoch 10/50\n",
            "24402/24402 [==============================] - 5s 214us/sample - loss: 1.2978 - accuracy: 0.5876 - val_loss: 1.4661 - val_accuracy: 0.4992\n",
            "Epoch 11/50\n",
            "24402/24402 [==============================] - 5s 216us/sample - loss: 1.2682 - accuracy: 0.6035 - val_loss: 1.5001 - val_accuracy: 0.4890\n",
            "Epoch 12/50\n",
            "24402/24402 [==============================] - 5s 215us/sample - loss: 1.2335 - accuracy: 0.6234 - val_loss: 1.4603 - val_accuracy: 0.5182\n",
            "Epoch 13/50\n",
            "24402/24402 [==============================] - 5s 217us/sample - loss: 1.2085 - accuracy: 0.6410 - val_loss: 1.4732 - val_accuracy: 0.5031\n",
            "Epoch 14/50\n",
            "24402/24402 [==============================] - 5s 215us/sample - loss: 1.1716 - accuracy: 0.6599 - val_loss: 1.4701 - val_accuracy: 0.5175\n",
            "Epoch 15/50\n",
            "24402/24402 [==============================] - 5s 217us/sample - loss: 1.1432 - accuracy: 0.6759 - val_loss: 1.4917 - val_accuracy: 0.5124\n",
            "Epoch 16/50\n",
            "24402/24402 [==============================] - 5s 217us/sample - loss: 1.1160 - accuracy: 0.6847 - val_loss: 1.5168 - val_accuracy: 0.4976\n",
            "Epoch 17/50\n",
            "24402/24402 [==============================] - 5s 214us/sample - loss: 1.0779 - accuracy: 0.7083 - val_loss: 1.4769 - val_accuracy: 0.5217\n",
            "Epoch 18/50\n",
            "24402/24402 [==============================] - 5s 217us/sample - loss: 1.0518 - accuracy: 0.7248 - val_loss: 1.4608 - val_accuracy: 0.5405\n",
            "Epoch 19/50\n",
            "24402/24402 [==============================] - 5s 215us/sample - loss: 1.0224 - accuracy: 0.7387 - val_loss: 1.5290 - val_accuracy: 0.5041\n",
            "Epoch 20/50\n",
            "24402/24402 [==============================] - 5s 213us/sample - loss: 0.9985 - accuracy: 0.7547 - val_loss: 1.4993 - val_accuracy: 0.5294\n",
            "Epoch 21/50\n",
            "24402/24402 [==============================] - 5s 212us/sample - loss: 0.9713 - accuracy: 0.7691 - val_loss: 1.5799 - val_accuracy: 0.4820\n",
            "Epoch 22/50\n",
            "24402/24402 [==============================] - 5s 215us/sample - loss: 0.9447 - accuracy: 0.7842 - val_loss: 1.5185 - val_accuracy: 0.5245\n",
            "Epoch 23/50\n",
            "24402/24402 [==============================] - 5s 212us/sample - loss: 0.9196 - accuracy: 0.7978 - val_loss: 1.5707 - val_accuracy: 0.5068\n",
            "Epoch 24/50\n",
            "24402/24402 [==============================] - 5s 214us/sample - loss: 0.8990 - accuracy: 0.8097 - val_loss: 1.5698 - val_accuracy: 0.5138\n",
            "Epoch 25/50\n",
            "24402/24402 [==============================] - 5s 218us/sample - loss: 0.8707 - accuracy: 0.8258 - val_loss: 1.6016 - val_accuracy: 0.5106\n",
            "Epoch 26/50\n",
            "24402/24402 [==============================] - 5s 216us/sample - loss: 0.8519 - accuracy: 0.8349 - val_loss: 1.5280 - val_accuracy: 0.5319\n",
            "Epoch 27/50\n",
            "24402/24402 [==============================] - 5s 213us/sample - loss: 0.8332 - accuracy: 0.8484 - val_loss: 1.5267 - val_accuracy: 0.5347\n",
            "Epoch 28/50\n",
            "24402/24402 [==============================] - 5s 215us/sample - loss: 0.8107 - accuracy: 0.8614 - val_loss: 1.5820 - val_accuracy: 0.5180\n",
            "Epoch 29/50\n",
            "24402/24402 [==============================] - 5s 215us/sample - loss: 0.7940 - accuracy: 0.8692 - val_loss: 1.5533 - val_accuracy: 0.5349\n",
            "Epoch 30/50\n",
            "24402/24402 [==============================] - 5s 214us/sample - loss: 0.7806 - accuracy: 0.8778 - val_loss: 1.5474 - val_accuracy: 0.5333\n",
            "Epoch 31/50\n",
            "24402/24402 [==============================] - 5s 214us/sample - loss: 0.7590 - accuracy: 0.8892 - val_loss: 1.5385 - val_accuracy: 0.5333\n",
            "Epoch 32/50\n",
            "24402/24402 [==============================] - 5s 215us/sample - loss: 0.7481 - accuracy: 0.8964 - val_loss: 1.6777 - val_accuracy: 0.4841\n",
            "Epoch 33/50\n",
            "24402/24402 [==============================] - 5s 216us/sample - loss: 0.7428 - accuracy: 0.8999 - val_loss: 1.5741 - val_accuracy: 0.5226\n",
            "Epoch 34/50\n",
            "24402/24402 [==============================] - 5s 215us/sample - loss: 0.7265 - accuracy: 0.9085 - val_loss: 1.6772 - val_accuracy: 0.4911\n",
            "Epoch 35/50\n",
            "24402/24402 [==============================] - 5s 214us/sample - loss: 0.7159 - accuracy: 0.9144 - val_loss: 1.5709 - val_accuracy: 0.5424\n",
            "Epoch 36/50\n",
            "24402/24402 [==============================] - 5s 217us/sample - loss: 0.7028 - accuracy: 0.9238 - val_loss: 1.6327 - val_accuracy: 0.5150\n",
            "Epoch 37/50\n",
            "24402/24402 [==============================] - 5s 216us/sample - loss: 0.6993 - accuracy: 0.9242 - val_loss: 1.6271 - val_accuracy: 0.5217\n",
            "Epoch 38/50\n",
            "24402/24402 [==============================] - 5s 213us/sample - loss: 0.6878 - accuracy: 0.9312 - val_loss: 1.5494 - val_accuracy: 0.5345\n",
            "Epoch 39/50\n",
            "24402/24402 [==============================] - 5s 213us/sample - loss: 0.6792 - accuracy: 0.9376 - val_loss: 1.5646 - val_accuracy: 0.5319\n",
            "Epoch 40/50\n",
            "24402/24402 [==============================] - 5s 215us/sample - loss: 0.6686 - accuracy: 0.9427 - val_loss: 1.5559 - val_accuracy: 0.5319\n",
            "Epoch 41/50\n",
            "24402/24402 [==============================] - 5s 216us/sample - loss: 0.6665 - accuracy: 0.9407 - val_loss: 1.5578 - val_accuracy: 0.5324\n",
            "Epoch 42/50\n",
            "24402/24402 [==============================] - 5s 214us/sample - loss: 0.6587 - accuracy: 0.9472 - val_loss: 1.5633 - val_accuracy: 0.5368\n",
            "Epoch 43/50\n",
            "24402/24402 [==============================] - 5s 214us/sample - loss: 0.6495 - accuracy: 0.9531 - val_loss: 1.5595 - val_accuracy: 0.5310\n",
            "Epoch 44/50\n",
            "24402/24402 [==============================] - 5s 219us/sample - loss: 0.6473 - accuracy: 0.9523 - val_loss: 1.5721 - val_accuracy: 0.5373\n",
            "Epoch 45/50\n",
            "24402/24402 [==============================] - 5s 215us/sample - loss: 0.6384 - accuracy: 0.9581 - val_loss: 1.5497 - val_accuracy: 0.5412\n",
            "Epoch 46/50\n",
            "24402/24402 [==============================] - 5s 213us/sample - loss: 0.6340 - accuracy: 0.9590 - val_loss: 1.5622 - val_accuracy: 0.5421\n",
            "Epoch 47/50\n",
            "24402/24402 [==============================] - 5s 214us/sample - loss: 0.6335 - accuracy: 0.9596 - val_loss: 1.8068 - val_accuracy: 0.4555\n",
            "Epoch 48/50\n",
            "24402/24402 [==============================] - 5s 216us/sample - loss: 0.6307 - accuracy: 0.9616 - val_loss: 1.5463 - val_accuracy: 0.5486\n",
            "Epoch 49/50\n",
            "24402/24402 [==============================] - 5s 216us/sample - loss: 0.6255 - accuracy: 0.9641 - val_loss: 1.5646 - val_accuracy: 0.5368\n",
            "Epoch 50/50\n",
            "24402/24402 [==============================] - 5s 213us/sample - loss: 0.6181 - accuracy: 0.9669 - val_loss: 1.5744 - val_accuracy: 0.5212\n"
          ],
          "name": "stdout"
        },
        {
          "output_type": "execute_result",
          "data": {
            "text/plain": [
              "<tensorflow.python.keras.callbacks.History at 0x7f8b60536780>"
            ]
          },
          "metadata": {
            "tags": []
          },
          "execution_count": 29
        }
      ]
    },
    {
      "cell_type": "code",
      "metadata": {
        "id": "gY3WC8fKQcnn",
        "colab_type": "code",
        "colab": {
          "base_uri": "https://localhost:8080/",
          "height": 1000
        },
        "outputId": "5dc2dd8c-b2db-44ac-90c7-2357a2f5cb8a"
      },
      "source": [
        "# Train a mini VGG net with data augmentation, SGD & Label Smoothing\n",
        "wandb.init(project=\"emotion-detection\", entity=\"sayakpaul\", id=\"vgg-net-sgd-ls_0.2\")\n",
        "vgg_net = MiniVGGNetModel(len(LABELS))\n",
        "vgg_net.compile(loss=CategoricalCrossentropy(label_smoothing=0.2), optimizer=\"sgd\",\n",
        "\tmetrics=[\"accuracy\"])\n",
        "vgg_net.fit(trainX, trainY,\n",
        "    batch_size=64,\n",
        "    validation_data=(valX, valY), \n",
        "    epochs=50,\n",
        "    class_weight=classWeight,\n",
        "    callbacks=[WandbCallback(data_type=\"image\", validation_data=(valX, valY), labels=LABELS)])"
      ],
      "execution_count": 30,
      "outputs": [
        {
          "output_type": "display_data",
          "data": {
            "text/html": [
              "\n",
              "                Logging results to <a href=\"https://wandb.com\" target=\"_blank\">Weights & Biases</a> <a href=\"https://docs.wandb.com/integrations/jupyter.html\" target=\"_blank\">(Documentation)</a>.<br/>\n",
              "                Project page: <a href=\"https://app.wandb.ai/sayakpaul/emotion-detection\" target=\"_blank\">https://app.wandb.ai/sayakpaul/emotion-detection</a><br/>\n",
              "                Run page: <a href=\"https://app.wandb.ai/sayakpaul/emotion-detection/runs/vgg-net-sgd-ls_0.2\" target=\"_blank\">https://app.wandb.ai/sayakpaul/emotion-detection/runs/vgg-net-sgd-ls_0.2</a><br/>\n",
              "            "
            ],
            "text/plain": [
              "<IPython.core.display.HTML object>"
            ]
          },
          "metadata": {
            "tags": []
          }
        },
        {
          "output_type": "stream",
          "text": [
            "Train on 24402 samples, validate on 4307 samples\n",
            "Epoch 1/50\n",
            "24256/24402 [============================>.] - ETA: 0s - loss: 2.3410 - accuracy: 0.2596"
          ],
          "name": "stdout"
        },
        {
          "output_type": "stream",
          "text": [
            "wandb: ERROR Can't save model, h5py returned error: Saving the model to HDF5 format requires the model to be a Functional model or a Sequential model. It does not work for subclassed models, because such models are defined via the body of a Python method, which isn't safely serializable. Consider saving to the Tensorflow SavedModel format (by setting save_format=\"tf\") or using `save_weights`.\n"
          ],
          "name": "stderr"
        },
        {
          "output_type": "stream",
          "text": [
            "24402/24402 [==============================] - 6s 254us/sample - loss: 2.3385 - accuracy: 0.2603 - val_loss: 1.8199 - val_accuracy: 0.3055\n",
            "Epoch 2/50\n",
            "24402/24402 [==============================] - 5s 216us/sample - loss: 1.8293 - accuracy: 0.3748 - val_loss: 1.6881 - val_accuracy: 0.4223\n",
            "Epoch 3/50\n",
            "24402/24402 [==============================] - 5s 215us/sample - loss: 1.6862 - accuracy: 0.4334 - val_loss: 1.6807 - val_accuracy: 0.4240\n",
            "Epoch 4/50\n",
            "24402/24402 [==============================] - 5s 218us/sample - loss: 1.6247 - accuracy: 0.4680 - val_loss: 1.6109 - val_accuracy: 0.4739\n",
            "Epoch 5/50\n",
            "24402/24402 [==============================] - 5s 217us/sample - loss: 1.5885 - accuracy: 0.4917 - val_loss: 1.7091 - val_accuracy: 0.4151\n",
            "Epoch 6/50\n",
            "24402/24402 [==============================] - 5s 219us/sample - loss: 1.5624 - accuracy: 0.5049 - val_loss: 1.6009 - val_accuracy: 0.4725\n",
            "Epoch 7/50\n",
            "24402/24402 [==============================] - 5s 219us/sample - loss: 1.5395 - accuracy: 0.5234 - val_loss: 1.5991 - val_accuracy: 0.4795\n",
            "Epoch 8/50\n",
            "24402/24402 [==============================] - 5s 217us/sample - loss: 1.5164 - accuracy: 0.5372 - val_loss: 1.6739 - val_accuracy: 0.4319\n",
            "Epoch 9/50\n",
            "24402/24402 [==============================] - 5s 213us/sample - loss: 1.4951 - accuracy: 0.5555 - val_loss: 1.5620 - val_accuracy: 0.5008\n",
            "Epoch 10/50\n",
            "24402/24402 [==============================] - 5s 214us/sample - loss: 1.4732 - accuracy: 0.5713 - val_loss: 1.6036 - val_accuracy: 0.4804\n",
            "Epoch 11/50\n",
            "24402/24402 [==============================] - 5s 215us/sample - loss: 1.4534 - accuracy: 0.5856 - val_loss: 1.5653 - val_accuracy: 0.5024\n",
            "Epoch 12/50\n",
            "24402/24402 [==============================] - 5s 216us/sample - loss: 1.4422 - accuracy: 0.5945 - val_loss: 1.5597 - val_accuracy: 0.5101\n",
            "Epoch 13/50\n",
            "24402/24402 [==============================] - 5s 212us/sample - loss: 1.4150 - accuracy: 0.6118 - val_loss: 1.5734 - val_accuracy: 0.5027\n",
            "Epoch 14/50\n",
            "24402/24402 [==============================] - 5s 213us/sample - loss: 1.3972 - accuracy: 0.6256 - val_loss: 1.5738 - val_accuracy: 0.5013\n",
            "Epoch 15/50\n",
            "24402/24402 [==============================] - 5s 216us/sample - loss: 1.3746 - accuracy: 0.6411 - val_loss: 1.5972 - val_accuracy: 0.4873\n",
            "Epoch 16/50\n",
            "24402/24402 [==============================] - 5s 213us/sample - loss: 1.3587 - accuracy: 0.6547 - val_loss: 1.5672 - val_accuracy: 0.5192\n",
            "Epoch 17/50\n",
            "24402/24402 [==============================] - 5s 214us/sample - loss: 1.3398 - accuracy: 0.6686 - val_loss: 1.5599 - val_accuracy: 0.5215\n",
            "Epoch 18/50\n",
            "24402/24402 [==============================] - 5s 215us/sample - loss: 1.3206 - accuracy: 0.6818 - val_loss: 1.5844 - val_accuracy: 0.4999\n",
            "Epoch 19/50\n",
            "24402/24402 [==============================] - 5s 215us/sample - loss: 1.3012 - accuracy: 0.6956 - val_loss: 1.6197 - val_accuracy: 0.5071\n",
            "Epoch 20/50\n",
            "24402/24402 [==============================] - 5s 216us/sample - loss: 1.2795 - accuracy: 0.7118 - val_loss: 1.5820 - val_accuracy: 0.5185\n",
            "Epoch 21/50\n",
            "24402/24402 [==============================] - 5s 215us/sample - loss: 1.2624 - accuracy: 0.7235 - val_loss: 1.5902 - val_accuracy: 0.5145\n",
            "Epoch 22/50\n",
            "24402/24402 [==============================] - 5s 219us/sample - loss: 1.2456 - accuracy: 0.7371 - val_loss: 1.6013 - val_accuracy: 0.5066\n",
            "Epoch 23/50\n",
            "24402/24402 [==============================] - 5s 217us/sample - loss: 1.2268 - accuracy: 0.7529 - val_loss: 1.6238 - val_accuracy: 0.4957\n",
            "Epoch 24/50\n",
            "24402/24402 [==============================] - 5s 216us/sample - loss: 1.2127 - accuracy: 0.7626 - val_loss: 1.5864 - val_accuracy: 0.5333\n",
            "Epoch 25/50\n",
            "24402/24402 [==============================] - 5s 213us/sample - loss: 1.1947 - accuracy: 0.7759 - val_loss: 1.5874 - val_accuracy: 0.5215\n",
            "Epoch 26/50\n",
            "24402/24402 [==============================] - 5s 216us/sample - loss: 1.1774 - accuracy: 0.7881 - val_loss: 1.5935 - val_accuracy: 0.5189\n",
            "Epoch 27/50\n",
            "24402/24402 [==============================] - 5s 217us/sample - loss: 1.1629 - accuracy: 0.7983 - val_loss: 1.6062 - val_accuracy: 0.5291\n",
            "Epoch 28/50\n",
            "24402/24402 [==============================] - 5s 213us/sample - loss: 1.1480 - accuracy: 0.8123 - val_loss: 1.5974 - val_accuracy: 0.5273\n",
            "Epoch 29/50\n",
            "24402/24402 [==============================] - 5s 214us/sample - loss: 1.1326 - accuracy: 0.8205 - val_loss: 1.5912 - val_accuracy: 0.5310\n",
            "Epoch 30/50\n",
            "24402/24402 [==============================] - 5s 220us/sample - loss: 1.1190 - accuracy: 0.8299 - val_loss: 1.6171 - val_accuracy: 0.5373\n",
            "Epoch 31/50\n",
            "24402/24402 [==============================] - 5s 215us/sample - loss: 1.1051 - accuracy: 0.8435 - val_loss: 1.6237 - val_accuracy: 0.5154\n",
            "Epoch 32/50\n",
            "24402/24402 [==============================] - 5s 214us/sample - loss: 1.0931 - accuracy: 0.8515 - val_loss: 1.5932 - val_accuracy: 0.5266\n",
            "Epoch 33/50\n",
            "24402/24402 [==============================] - 5s 215us/sample - loss: 1.0799 - accuracy: 0.8641 - val_loss: 1.5973 - val_accuracy: 0.5331\n",
            "Epoch 34/50\n",
            "24402/24402 [==============================] - 5s 215us/sample - loss: 1.0724 - accuracy: 0.8685 - val_loss: 1.6589 - val_accuracy: 0.5150\n",
            "Epoch 35/50\n",
            "24402/24402 [==============================] - 5s 215us/sample - loss: 1.0638 - accuracy: 0.8768 - val_loss: 1.6103 - val_accuracy: 0.5210\n",
            "Epoch 36/50\n",
            "24402/24402 [==============================] - 5s 214us/sample - loss: 1.0523 - accuracy: 0.8850 - val_loss: 1.6853 - val_accuracy: 0.4811\n",
            "Epoch 37/50\n",
            "24402/24402 [==============================] - 5s 216us/sample - loss: 1.0463 - accuracy: 0.8880 - val_loss: 1.6309 - val_accuracy: 0.5205\n",
            "Epoch 38/50\n",
            "24402/24402 [==============================] - 5s 220us/sample - loss: 1.0359 - accuracy: 0.8984 - val_loss: 1.6417 - val_accuracy: 0.5122\n",
            "Epoch 39/50\n",
            "24402/24402 [==============================] - 5s 215us/sample - loss: 1.0298 - accuracy: 0.9019 - val_loss: 1.6068 - val_accuracy: 0.5284\n",
            "Epoch 40/50\n",
            "24402/24402 [==============================] - 5s 217us/sample - loss: 1.0237 - accuracy: 0.9050 - val_loss: 1.6085 - val_accuracy: 0.5247\n",
            "Epoch 41/50\n",
            "24402/24402 [==============================] - 5s 216us/sample - loss: 1.0155 - accuracy: 0.9120 - val_loss: 1.6010 - val_accuracy: 0.5352\n",
            "Epoch 42/50\n",
            "24402/24402 [==============================] - 5s 215us/sample - loss: 1.0066 - accuracy: 0.9187 - val_loss: 1.6076 - val_accuracy: 0.5282\n",
            "Epoch 43/50\n",
            "24402/24402 [==============================] - 5s 216us/sample - loss: 1.0020 - accuracy: 0.9221 - val_loss: 1.6106 - val_accuracy: 0.5298\n",
            "Epoch 44/50\n",
            "24402/24402 [==============================] - 5s 216us/sample - loss: 0.9959 - accuracy: 0.9259 - val_loss: 1.6085 - val_accuracy: 0.5245\n",
            "Epoch 45/50\n",
            "24402/24402 [==============================] - 5s 216us/sample - loss: 0.9921 - accuracy: 0.9276 - val_loss: 1.6173 - val_accuracy: 0.5356\n",
            "Epoch 46/50\n",
            "24402/24402 [==============================] - 5s 214us/sample - loss: 0.9857 - accuracy: 0.9314 - val_loss: 1.6405 - val_accuracy: 0.5282\n",
            "Epoch 47/50\n",
            "24402/24402 [==============================] - 5s 213us/sample - loss: 0.9809 - accuracy: 0.9391 - val_loss: 1.6185 - val_accuracy: 0.5222\n",
            "Epoch 48/50\n",
            "24402/24402 [==============================] - 5s 215us/sample - loss: 0.9777 - accuracy: 0.9375 - val_loss: 1.6140 - val_accuracy: 0.5303\n",
            "Epoch 49/50\n",
            "24402/24402 [==============================] - 5s 216us/sample - loss: 0.9697 - accuracy: 0.9420 - val_loss: 1.6055 - val_accuracy: 0.5312\n",
            "Epoch 50/50\n",
            "24402/24402 [==============================] - 5s 217us/sample - loss: 0.9678 - accuracy: 0.9454 - val_loss: 1.6019 - val_accuracy: 0.5373\n"
          ],
          "name": "stdout"
        },
        {
          "output_type": "execute_result",
          "data": {
            "text/plain": [
              "<tensorflow.python.keras.callbacks.History at 0x7f8b484cd4a8>"
            ]
          },
          "metadata": {
            "tags": []
          },
          "execution_count": 30
        }
      ]
    },
    {
      "cell_type": "code",
      "metadata": {
        "id": "S1F2N7aQQlga",
        "colab_type": "code",
        "colab": {
          "base_uri": "https://localhost:8080/",
          "height": 1000
        },
        "outputId": "1e501666-f7bb-4516-a0e1-450c1f1609dc"
      },
      "source": [
        "# Train a mini VGG net with data augmentation, SGD & Label Smoothing\n",
        "wandb.init(project=\"emotion-detection\", entity=\"sayakpaul\", id=\"vgg-net-sgd-ls_0.4\")\n",
        "vgg_net = MiniVGGNetModel(len(LABELS))\n",
        "vgg_net.compile(loss=CategoricalCrossentropy(label_smoothing=0.4), optimizer=\"sgd\",\n",
        "\tmetrics=[\"accuracy\"])\n",
        "vgg_net.fit(trainX, trainY,\n",
        "    batch_size=64,\n",
        "    validation_data=(valX, valY), \n",
        "    epochs=50,\n",
        "    class_weight=classWeight,\n",
        "    callbacks=[WandbCallback(data_type=\"image\", validation_data=(valX, valY), labels=LABELS)])"
      ],
      "execution_count": 31,
      "outputs": [
        {
          "output_type": "display_data",
          "data": {
            "text/html": [
              "\n",
              "                Logging results to <a href=\"https://wandb.com\" target=\"_blank\">Weights & Biases</a> <a href=\"https://docs.wandb.com/integrations/jupyter.html\" target=\"_blank\">(Documentation)</a>.<br/>\n",
              "                Project page: <a href=\"https://app.wandb.ai/sayakpaul/emotion-detection\" target=\"_blank\">https://app.wandb.ai/sayakpaul/emotion-detection</a><br/>\n",
              "                Run page: <a href=\"https://app.wandb.ai/sayakpaul/emotion-detection/runs/vgg-net-sgd-ls_0.4\" target=\"_blank\">https://app.wandb.ai/sayakpaul/emotion-detection/runs/vgg-net-sgd-ls_0.4</a><br/>\n",
              "            "
            ],
            "text/plain": [
              "<IPython.core.display.HTML object>"
            ]
          },
          "metadata": {
            "tags": []
          }
        },
        {
          "output_type": "stream",
          "text": [
            "Train on 24402 samples, validate on 4307 samples\n",
            "Epoch 1/50\n",
            "24384/24402 [============================>.] - ETA: 0s - loss: 2.4119 - accuracy: 0.2260"
          ],
          "name": "stdout"
        },
        {
          "output_type": "stream",
          "text": [
            "wandb: ERROR Can't save model, h5py returned error: Saving the model to HDF5 format requires the model to be a Functional model or a Sequential model. It does not work for subclassed models, because such models are defined via the body of a Python method, which isn't safely serializable. Consider saving to the Tensorflow SavedModel format (by setting save_format=\"tf\") or using `save_weights`.\n"
          ],
          "name": "stderr"
        },
        {
          "output_type": "stream",
          "text": [
            "24402/24402 [==============================] - 6s 254us/sample - loss: 2.4120 - accuracy: 0.2260 - val_loss: 1.8949 - val_accuracy: 0.2988\n",
            "Epoch 2/50\n",
            "24402/24402 [==============================] - 5s 215us/sample - loss: 1.9870 - accuracy: 0.3187 - val_loss: 1.8275 - val_accuracy: 0.3866\n",
            "Epoch 3/50\n",
            "24402/24402 [==============================] - 5s 215us/sample - loss: 1.8611 - accuracy: 0.3802 - val_loss: 1.7983 - val_accuracy: 0.4258\n",
            "Epoch 4/50\n",
            "24402/24402 [==============================] - 5s 218us/sample - loss: 1.8131 - accuracy: 0.4146 - val_loss: 1.7869 - val_accuracy: 0.4365\n",
            "Epoch 5/50\n",
            "24402/24402 [==============================] - 5s 218us/sample - loss: 1.7890 - accuracy: 0.4385 - val_loss: 1.7858 - val_accuracy: 0.4404\n",
            "Epoch 6/50\n",
            "24402/24402 [==============================] - 5s 217us/sample - loss: 1.7726 - accuracy: 0.4569 - val_loss: 1.7800 - val_accuracy: 0.4507\n",
            "Epoch 7/50\n",
            "24402/24402 [==============================] - 5s 219us/sample - loss: 1.7607 - accuracy: 0.4682 - val_loss: 1.7796 - val_accuracy: 0.4465\n",
            "Epoch 8/50\n",
            "24402/24402 [==============================] - 5s 220us/sample - loss: 1.7518 - accuracy: 0.4811 - val_loss: 1.7678 - val_accuracy: 0.4616\n",
            "Epoch 9/50\n",
            "24402/24402 [==============================] - 5s 216us/sample - loss: 1.7402 - accuracy: 0.4952 - val_loss: 1.7669 - val_accuracy: 0.4555\n",
            "Epoch 10/50\n",
            "24402/24402 [==============================] - 5s 215us/sample - loss: 1.7318 - accuracy: 0.5086 - val_loss: 1.7589 - val_accuracy: 0.4757\n",
            "Epoch 11/50\n",
            "24402/24402 [==============================] - 5s 215us/sample - loss: 1.7223 - accuracy: 0.5216 - val_loss: 1.7575 - val_accuracy: 0.4734\n",
            "Epoch 12/50\n",
            "24402/24402 [==============================] - 5s 216us/sample - loss: 1.7159 - accuracy: 0.5257 - val_loss: 1.7445 - val_accuracy: 0.4920\n",
            "Epoch 13/50\n",
            "24402/24402 [==============================] - 5s 214us/sample - loss: 1.7104 - accuracy: 0.5316 - val_loss: 1.7401 - val_accuracy: 0.4857\n",
            "Epoch 14/50\n",
            "24402/24402 [==============================] - 5s 213us/sample - loss: 1.7026 - accuracy: 0.5454 - val_loss: 1.7717 - val_accuracy: 0.4625\n",
            "Epoch 15/50\n",
            "24402/24402 [==============================] - 5s 215us/sample - loss: 1.6948 - accuracy: 0.5511 - val_loss: 1.7397 - val_accuracy: 0.4941\n",
            "Epoch 16/50\n",
            "24402/24402 [==============================] - 5s 216us/sample - loss: 1.6890 - accuracy: 0.5647 - val_loss: 1.7512 - val_accuracy: 0.4818\n",
            "Epoch 17/50\n",
            "24402/24402 [==============================] - 5s 215us/sample - loss: 1.6816 - accuracy: 0.5737 - val_loss: 1.7499 - val_accuracy: 0.4829\n",
            "Epoch 18/50\n",
            "24402/24402 [==============================] - 5s 215us/sample - loss: 1.6731 - accuracy: 0.5827 - val_loss: 1.7294 - val_accuracy: 0.5073\n",
            "Epoch 19/50\n",
            "24402/24402 [==============================] - 5s 217us/sample - loss: 1.6655 - accuracy: 0.5967 - val_loss: 1.7571 - val_accuracy: 0.4778\n",
            "Epoch 20/50\n",
            "24402/24402 [==============================] - 5s 217us/sample - loss: 1.6577 - accuracy: 0.6045 - val_loss: 1.7839 - val_accuracy: 0.4435\n",
            "Epoch 21/50\n",
            "24402/24402 [==============================] - 5s 216us/sample - loss: 1.6535 - accuracy: 0.6121 - val_loss: 1.7689 - val_accuracy: 0.4678\n",
            "Epoch 22/50\n",
            "24402/24402 [==============================] - 5s 215us/sample - loss: 1.6461 - accuracy: 0.6209 - val_loss: 1.7596 - val_accuracy: 0.4788\n",
            "Epoch 23/50\n",
            "24402/24402 [==============================] - 5s 217us/sample - loss: 1.6409 - accuracy: 0.6263 - val_loss: 1.7321 - val_accuracy: 0.5078\n",
            "Epoch 24/50\n",
            "24402/24402 [==============================] - 5s 218us/sample - loss: 1.6341 - accuracy: 0.6345 - val_loss: 1.7408 - val_accuracy: 0.4945\n",
            "Epoch 25/50\n",
            "24402/24402 [==============================] - 5s 214us/sample - loss: 1.6249 - accuracy: 0.6486 - val_loss: 1.7362 - val_accuracy: 0.5055\n",
            "Epoch 26/50\n",
            "24402/24402 [==============================] - 5s 216us/sample - loss: 1.6188 - accuracy: 0.6552 - val_loss: 1.7299 - val_accuracy: 0.5078\n",
            "Epoch 27/50\n",
            "24402/24402 [==============================] - 5s 216us/sample - loss: 1.6131 - accuracy: 0.6610 - val_loss: 1.7594 - val_accuracy: 0.4783\n",
            "Epoch 28/50\n",
            "24402/24402 [==============================] - 5s 218us/sample - loss: 1.6058 - accuracy: 0.6767 - val_loss: 1.7581 - val_accuracy: 0.4973\n",
            "Epoch 29/50\n",
            "24402/24402 [==============================] - 5s 217us/sample - loss: 1.6006 - accuracy: 0.6785 - val_loss: 1.7448 - val_accuracy: 0.4941\n",
            "Epoch 30/50\n",
            "24402/24402 [==============================] - 5s 217us/sample - loss: 1.5927 - accuracy: 0.6912 - val_loss: 1.7567 - val_accuracy: 0.4976\n",
            "Epoch 31/50\n",
            "24402/24402 [==============================] - 5s 218us/sample - loss: 1.5873 - accuracy: 0.6963 - val_loss: 1.7342 - val_accuracy: 0.5138\n",
            "Epoch 32/50\n",
            "24402/24402 [==============================] - 5s 214us/sample - loss: 1.5791 - accuracy: 0.7072 - val_loss: 1.7295 - val_accuracy: 0.5150\n",
            "Epoch 33/50\n",
            "24402/24402 [==============================] - 5s 215us/sample - loss: 1.5715 - accuracy: 0.7167 - val_loss: 1.7329 - val_accuracy: 0.5089\n",
            "Epoch 34/50\n",
            "24402/24402 [==============================] - 5s 216us/sample - loss: 1.5654 - accuracy: 0.7299 - val_loss: 1.7574 - val_accuracy: 0.4913\n",
            "Epoch 35/50\n",
            "24402/24402 [==============================] - 5s 214us/sample - loss: 1.5613 - accuracy: 0.7300 - val_loss: 1.7505 - val_accuracy: 0.5031\n",
            "Epoch 36/50\n",
            "24402/24402 [==============================] - 5s 214us/sample - loss: 1.5551 - accuracy: 0.7444 - val_loss: 1.7781 - val_accuracy: 0.4664\n",
            "Epoch 37/50\n",
            "24402/24402 [==============================] - 5s 215us/sample - loss: 1.5495 - accuracy: 0.7486 - val_loss: 1.7493 - val_accuracy: 0.4952\n",
            "Epoch 38/50\n",
            "24402/24402 [==============================] - 5s 213us/sample - loss: 1.5434 - accuracy: 0.7567 - val_loss: 1.7598 - val_accuracy: 0.5113\n",
            "Epoch 39/50\n",
            "24402/24402 [==============================] - 5s 217us/sample - loss: 1.5398 - accuracy: 0.7606 - val_loss: 1.7380 - val_accuracy: 0.5196\n",
            "Epoch 40/50\n",
            "24402/24402 [==============================] - 5s 214us/sample - loss: 1.5329 - accuracy: 0.7721 - val_loss: 1.7914 - val_accuracy: 0.4602\n",
            "Epoch 41/50\n",
            "24402/24402 [==============================] - 5s 216us/sample - loss: 1.5252 - accuracy: 0.7835 - val_loss: 1.7396 - val_accuracy: 0.5113\n",
            "Epoch 42/50\n",
            "24402/24402 [==============================] - 5s 215us/sample - loss: 1.5202 - accuracy: 0.7869 - val_loss: 1.7338 - val_accuracy: 0.5178\n",
            "Epoch 43/50\n",
            "24402/24402 [==============================] - 5s 215us/sample - loss: 1.5187 - accuracy: 0.7910 - val_loss: 1.7420 - val_accuracy: 0.5199\n",
            "Epoch 44/50\n",
            "24402/24402 [==============================] - 5s 213us/sample - loss: 1.5090 - accuracy: 0.8038 - val_loss: 1.7530 - val_accuracy: 0.5161\n",
            "Epoch 45/50\n",
            "24402/24402 [==============================] - 5s 215us/sample - loss: 1.5062 - accuracy: 0.8055 - val_loss: 1.7478 - val_accuracy: 0.5020\n",
            "Epoch 46/50\n",
            "24402/24402 [==============================] - 5s 216us/sample - loss: 1.5020 - accuracy: 0.8139 - val_loss: 1.7597 - val_accuracy: 0.5182\n",
            "Epoch 47/50\n",
            "24402/24402 [==============================] - 5s 215us/sample - loss: 1.4962 - accuracy: 0.8226 - val_loss: 1.7431 - val_accuracy: 0.5131\n",
            "Epoch 48/50\n",
            "24402/24402 [==============================] - 5s 215us/sample - loss: 1.4923 - accuracy: 0.8262 - val_loss: 1.7699 - val_accuracy: 0.5003\n",
            "Epoch 49/50\n",
            "24402/24402 [==============================] - 5s 218us/sample - loss: 1.4889 - accuracy: 0.8330 - val_loss: 1.7527 - val_accuracy: 0.5277\n",
            "Epoch 50/50\n",
            "24402/24402 [==============================] - 5s 223us/sample - loss: 1.4835 - accuracy: 0.8398 - val_loss: 1.7496 - val_accuracy: 0.5062\n"
          ],
          "name": "stdout"
        },
        {
          "output_type": "execute_result",
          "data": {
            "text/plain": [
              "<tensorflow.python.keras.callbacks.History at 0x7f8b481673c8>"
            ]
          },
          "metadata": {
            "tags": []
          },
          "execution_count": 31
        }
      ]
    },
    {
      "cell_type": "code",
      "metadata": {
        "id": "DIAhetwUTEBy",
        "colab_type": "code",
        "colab": {
          "base_uri": "https://localhost:8080/",
          "height": 1000
        },
        "outputId": "76fe988b-7eac-4b6a-d37e-c68c3f9d5646"
      },
      "source": [
        "# Train a mini VGG net with data augmentation, SGD & Label Smoothing\n",
        "wandb.init(project=\"emotion-detection\", entity=\"sayakpaul\", id=\"vgg-net-sgd-ls_0.7\")\n",
        "vgg_net = MiniVGGNetModel(len(LABELS))\n",
        "vgg_net.compile(loss=CategoricalCrossentropy(label_smoothing=0.7), optimizer=\"sgd\",\n",
        "\tmetrics=[\"accuracy\"])\n",
        "vgg_net.fit(trainX, trainY,\n",
        "    batch_size=64,\n",
        "    validation_data=(valX, valY), \n",
        "    epochs=50,\n",
        "    class_weight=classWeight,\n",
        "    callbacks=[WandbCallback(data_type=\"image\", validation_data=(valX, valY), labels=LABELS)])"
      ],
      "execution_count": 32,
      "outputs": [
        {
          "output_type": "display_data",
          "data": {
            "text/html": [
              "\n",
              "                Logging results to <a href=\"https://wandb.com\" target=\"_blank\">Weights & Biases</a> <a href=\"https://docs.wandb.com/integrations/jupyter.html\" target=\"_blank\">(Documentation)</a>.<br/>\n",
              "                Project page: <a href=\"https://app.wandb.ai/sayakpaul/emotion-detection\" target=\"_blank\">https://app.wandb.ai/sayakpaul/emotion-detection</a><br/>\n",
              "                Run page: <a href=\"https://app.wandb.ai/sayakpaul/emotion-detection/runs/vgg-net-sgd-ls_0.7\" target=\"_blank\">https://app.wandb.ai/sayakpaul/emotion-detection/runs/vgg-net-sgd-ls_0.7</a><br/>\n",
              "            "
            ],
            "text/plain": [
              "<IPython.core.display.HTML object>"
            ]
          },
          "metadata": {
            "tags": []
          }
        },
        {
          "output_type": "stream",
          "text": [
            "Train on 24402 samples, validate on 4307 samples\n",
            "Epoch 1/50\n",
            "24256/24402 [============================>.] - ETA: 0s - loss: 2.5085 - accuracy: 0.1901"
          ],
          "name": "stdout"
        },
        {
          "output_type": "stream",
          "text": [
            "wandb: ERROR Can't save model, h5py returned error: Saving the model to HDF5 format requires the model to be a Functional model or a Sequential model. It does not work for subclassed models, because such models are defined via the body of a Python method, which isn't safely serializable. Consider saving to the Tensorflow SavedModel format (by setting save_format=\"tf\") or using `save_weights`.\n"
          ],
          "name": "stderr"
        },
        {
          "output_type": "stream",
          "text": [
            "24402/24402 [==============================] - 6s 249us/sample - loss: 2.5069 - accuracy: 0.1903 - val_loss: 1.9444 - val_accuracy: 0.2540\n",
            "Epoch 2/50\n",
            "24402/24402 [==============================] - 5s 214us/sample - loss: 2.0991 - accuracy: 0.2308 - val_loss: 1.9244 - val_accuracy: 0.3487\n",
            "Epoch 3/50\n",
            "24402/24402 [==============================] - 5s 213us/sample - loss: 1.9795 - accuracy: 0.2796 - val_loss: 1.9172 - val_accuracy: 0.3812\n",
            "Epoch 4/50\n",
            "24402/24402 [==============================] - 5s 219us/sample - loss: 1.9386 - accuracy: 0.3304 - val_loss: 1.9156 - val_accuracy: 0.3942\n",
            "Epoch 5/50\n",
            "24402/24402 [==============================] - 5s 217us/sample - loss: 1.9241 - accuracy: 0.3564 - val_loss: 1.9148 - val_accuracy: 0.3875\n",
            "Epoch 6/50\n",
            "24402/24402 [==============================] - 5s 215us/sample - loss: 1.9176 - accuracy: 0.3751 - val_loss: 1.9102 - val_accuracy: 0.3993\n",
            "Epoch 7/50\n",
            "24402/24402 [==============================] - 5s 219us/sample - loss: 1.9146 - accuracy: 0.3864 - val_loss: 1.9090 - val_accuracy: 0.4082\n",
            "Epoch 8/50\n",
            "24402/24402 [==============================] - 5s 216us/sample - loss: 1.9121 - accuracy: 0.3960 - val_loss: 1.9080 - val_accuracy: 0.4096\n",
            "Epoch 9/50\n",
            "24402/24402 [==============================] - 5s 216us/sample - loss: 1.9103 - accuracy: 0.4068 - val_loss: 1.9077 - val_accuracy: 0.4114\n",
            "Epoch 10/50\n",
            "24402/24402 [==============================] - 5s 214us/sample - loss: 1.9093 - accuracy: 0.4057 - val_loss: 1.9058 - val_accuracy: 0.4221\n",
            "Epoch 11/50\n",
            "24402/24402 [==============================] - 5s 217us/sample - loss: 1.9075 - accuracy: 0.4153 - val_loss: 1.9044 - val_accuracy: 0.4288\n",
            "Epoch 12/50\n",
            "24402/24402 [==============================] - 5s 215us/sample - loss: 1.9067 - accuracy: 0.4205 - val_loss: 1.9037 - val_accuracy: 0.4344\n",
            "Epoch 13/50\n",
            "24402/24402 [==============================] - 5s 213us/sample - loss: 1.9056 - accuracy: 0.4262 - val_loss: 1.9028 - val_accuracy: 0.4332\n",
            "Epoch 14/50\n",
            "24402/24402 [==============================] - 5s 212us/sample - loss: 1.9038 - accuracy: 0.4348 - val_loss: 1.9021 - val_accuracy: 0.4374\n",
            "Epoch 15/50\n",
            "24402/24402 [==============================] - 5s 212us/sample - loss: 1.9034 - accuracy: 0.4373 - val_loss: 1.9011 - val_accuracy: 0.4407\n",
            "Epoch 16/50\n",
            "24402/24402 [==============================] - 5s 216us/sample - loss: 1.9021 - accuracy: 0.4431 - val_loss: 1.9017 - val_accuracy: 0.4360\n",
            "Epoch 17/50\n",
            "24402/24402 [==============================] - 5s 213us/sample - loss: 1.9014 - accuracy: 0.4451 - val_loss: 1.8999 - val_accuracy: 0.4435\n",
            "Epoch 18/50\n",
            "24402/24402 [==============================] - 5s 215us/sample - loss: 1.9002 - accuracy: 0.4526 - val_loss: 1.8997 - val_accuracy: 0.4490\n",
            "Epoch 19/50\n",
            "24402/24402 [==============================] - 5s 217us/sample - loss: 1.8993 - accuracy: 0.4591 - val_loss: 1.8987 - val_accuracy: 0.4456\n",
            "Epoch 20/50\n",
            "24402/24402 [==============================] - 5s 216us/sample - loss: 1.8988 - accuracy: 0.4607 - val_loss: 1.8983 - val_accuracy: 0.4493\n",
            "Epoch 21/50\n",
            "24402/24402 [==============================] - 5s 214us/sample - loss: 1.8976 - accuracy: 0.4668 - val_loss: 1.8973 - val_accuracy: 0.4532\n",
            "Epoch 22/50\n",
            "24402/24402 [==============================] - 5s 214us/sample - loss: 1.8972 - accuracy: 0.4700 - val_loss: 1.8977 - val_accuracy: 0.4562\n",
            "Epoch 23/50\n",
            "24402/24402 [==============================] - 5s 217us/sample - loss: 1.8968 - accuracy: 0.4693 - val_loss: 1.8968 - val_accuracy: 0.4683\n",
            "Epoch 24/50\n",
            "24402/24402 [==============================] - 5s 214us/sample - loss: 1.8952 - accuracy: 0.4754 - val_loss: 1.8969 - val_accuracy: 0.4553\n",
            "Epoch 25/50\n",
            "24402/24402 [==============================] - 5s 215us/sample - loss: 1.8943 - accuracy: 0.4819 - val_loss: 1.8958 - val_accuracy: 0.4664\n",
            "Epoch 26/50\n",
            "24402/24402 [==============================] - 5s 215us/sample - loss: 1.8940 - accuracy: 0.4822 - val_loss: 1.8960 - val_accuracy: 0.4632\n",
            "Epoch 27/50\n",
            "24402/24402 [==============================] - 5s 215us/sample - loss: 1.8932 - accuracy: 0.4869 - val_loss: 1.8962 - val_accuracy: 0.4627\n",
            "Epoch 28/50\n",
            "24402/24402 [==============================] - 5s 214us/sample - loss: 1.8925 - accuracy: 0.4907 - val_loss: 1.8955 - val_accuracy: 0.4651\n",
            "Epoch 29/50\n",
            "24402/24402 [==============================] - 5s 217us/sample - loss: 1.8916 - accuracy: 0.4954 - val_loss: 1.8956 - val_accuracy: 0.4644\n",
            "Epoch 30/50\n",
            "24402/24402 [==============================] - 5s 217us/sample - loss: 1.8913 - accuracy: 0.4944 - val_loss: 1.8942 - val_accuracy: 0.4713\n",
            "Epoch 31/50\n",
            "24402/24402 [==============================] - 5s 215us/sample - loss: 1.8906 - accuracy: 0.5008 - val_loss: 1.8946 - val_accuracy: 0.4604\n",
            "Epoch 32/50\n",
            "24402/24402 [==============================] - 5s 217us/sample - loss: 1.8897 - accuracy: 0.5060 - val_loss: 1.8930 - val_accuracy: 0.4788\n",
            "Epoch 33/50\n",
            "24402/24402 [==============================] - 5s 215us/sample - loss: 1.8887 - accuracy: 0.5121 - val_loss: 1.8957 - val_accuracy: 0.4618\n",
            "Epoch 34/50\n",
            "24402/24402 [==============================] - 5s 216us/sample - loss: 1.8887 - accuracy: 0.5111 - val_loss: 1.8942 - val_accuracy: 0.4716\n",
            "Epoch 35/50\n",
            "24402/24402 [==============================] - 5s 216us/sample - loss: 1.8880 - accuracy: 0.5101 - val_loss: 1.8929 - val_accuracy: 0.4771\n",
            "Epoch 36/50\n",
            "24402/24402 [==============================] - 5s 216us/sample - loss: 1.8873 - accuracy: 0.5168 - val_loss: 1.8939 - val_accuracy: 0.4725\n",
            "Epoch 37/50\n",
            "24402/24402 [==============================] - 5s 216us/sample - loss: 1.8869 - accuracy: 0.5198 - val_loss: 1.8988 - val_accuracy: 0.4655\n",
            "Epoch 38/50\n",
            "24402/24402 [==============================] - 5s 216us/sample - loss: 1.8862 - accuracy: 0.5241 - val_loss: 1.8922 - val_accuracy: 0.4767\n",
            "Epoch 39/50\n",
            "24402/24402 [==============================] - 5s 216us/sample - loss: 1.8855 - accuracy: 0.5260 - val_loss: 1.8922 - val_accuracy: 0.4811\n",
            "Epoch 40/50\n",
            "24402/24402 [==============================] - 5s 214us/sample - loss: 1.8854 - accuracy: 0.5245 - val_loss: 1.8980 - val_accuracy: 0.4692\n",
            "Epoch 41/50\n",
            "24402/24402 [==============================] - 5s 217us/sample - loss: 1.8842 - accuracy: 0.5336 - val_loss: 1.8911 - val_accuracy: 0.4878\n",
            "Epoch 42/50\n",
            "24402/24402 [==============================] - 5s 214us/sample - loss: 1.8838 - accuracy: 0.5348 - val_loss: 1.8918 - val_accuracy: 0.4836\n",
            "Epoch 43/50\n",
            "24402/24402 [==============================] - 5s 216us/sample - loss: 1.8836 - accuracy: 0.5366 - val_loss: 1.8940 - val_accuracy: 0.4864\n",
            "Epoch 44/50\n",
            "24402/24402 [==============================] - 5s 214us/sample - loss: 1.8826 - accuracy: 0.5407 - val_loss: 1.8912 - val_accuracy: 0.4918\n",
            "Epoch 45/50\n",
            "24402/24402 [==============================] - 5s 217us/sample - loss: 1.8819 - accuracy: 0.5442 - val_loss: 1.8908 - val_accuracy: 0.4869\n",
            "Epoch 46/50\n",
            "24402/24402 [==============================] - 5s 215us/sample - loss: 1.8812 - accuracy: 0.5456 - val_loss: 1.8924 - val_accuracy: 0.4887\n",
            "Epoch 47/50\n",
            "24402/24402 [==============================] - 5s 213us/sample - loss: 1.8805 - accuracy: 0.5513 - val_loss: 1.8909 - val_accuracy: 0.4855\n",
            "Epoch 48/50\n",
            "24402/24402 [==============================] - 5s 215us/sample - loss: 1.8802 - accuracy: 0.5571 - val_loss: 1.8907 - val_accuracy: 0.4873\n",
            "Epoch 49/50\n",
            "24402/24402 [==============================] - 5s 215us/sample - loss: 1.8797 - accuracy: 0.5571 - val_loss: 1.8914 - val_accuracy: 0.4908\n",
            "Epoch 50/50\n",
            "24402/24402 [==============================] - 5s 216us/sample - loss: 1.8786 - accuracy: 0.5619 - val_loss: 1.8903 - val_accuracy: 0.4992\n"
          ],
          "name": "stdout"
        },
        {
          "output_type": "execute_result",
          "data": {
            "text/plain": [
              "<tensorflow.python.keras.callbacks.History at 0x7f8b417a3be0>"
            ]
          },
          "metadata": {
            "tags": []
          },
          "execution_count": 32
        }
      ]
    }
  ]
}